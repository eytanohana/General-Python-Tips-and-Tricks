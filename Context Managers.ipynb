{
 "cells": [
  {
   "cell_type": "markdown",
   "metadata": {},
   "source": [
    "# Context Managers\n",
    "\n",
    "Context managers are normally used to allocate and release resources automatically without needing to worry about about doing it yourself. You normally use the `with` keyword when dealing with CMs.\n",
    "\n",
    "The most common example of a CM is when working with file IO. \\\n",
    "We show an example below:"
   ]
  },
  {
   "cell_type": "code",
   "execution_count": 1,
   "metadata": {},
   "outputs": [
    {
     "name": "stdout",
     "output_type": "stream",
     "text": [
      "[1:1] In the beginning when God created the heavens and the earth,\n",
      "\n",
      "[1:2] the earth was a formless void and darkness covered the face of the deep, while a wind from God swept over the face of the waters.\n",
      "\n"
     ]
    },
    {
     "ename": "ValueError",
     "evalue": "I/O operation on closed file.",
     "output_type": "error",
     "traceback": [
      "\u001b[0;31m---------------------------------------------------------------------------\u001b[0m",
      "\u001b[0;31mValueError\u001b[0m                                Traceback (most recent call last)",
      "\u001b[0;32m<ipython-input-1-e18a65b7f51f>\u001b[0m in \u001b[0;36m<module>\u001b[0;34m\u001b[0m\n\u001b[1;32m      4\u001b[0m \u001b[0;34m\u001b[0m\u001b[0m\n\u001b[1;32m      5\u001b[0m \u001b[0;31m# will fail because the file has been closed\u001b[0m\u001b[0;34m\u001b[0m\u001b[0;34m\u001b[0m\u001b[0;34m\u001b[0m\u001b[0m\n\u001b[0;32m----> 6\u001b[0;31m \u001b[0mnext\u001b[0m\u001b[0;34m(\u001b[0m\u001b[0mf\u001b[0m\u001b[0;34m)\u001b[0m\u001b[0;34m\u001b[0m\u001b[0;34m\u001b[0m\u001b[0m\n\u001b[0m",
      "\u001b[0;31mValueError\u001b[0m: I/O operation on closed file."
     ]
    }
   ],
   "source": [
    "with open('static/Genesis.txt', 'r') as f:\n",
    "    print(next(f))\n",
    "    print(next(f))\n",
    "\n",
    "# will fail because the file has been closed\n",
    "next(f)"
   ]
  },
  {
   "cell_type": "markdown",
   "metadata": {},
   "source": [
    "Here we open the file, print the first two lines, and then close the file. The `open` CM handles opening and closing the file for you. The file is opened when you enter the `with` block and is closed when exiting the block. You can see that this is cleaner then manually opening and closing the file like below. Which is also prone to errors like forgetting to close the file yourself."
   ]
  },
  {
   "cell_type": "code",
   "execution_count": 2,
   "metadata": {},
   "outputs": [
    {
     "name": "stdout",
     "output_type": "stream",
     "text": [
      "[1:1] In the beginning when God created the heavens and the earth,\n",
      "\n",
      "[1:2] the earth was a formless void and darkness covered the face of the deep, while a wind from God swept over the face of the waters.\n"
     ]
    }
   ],
   "source": [
    "f = open('static/Genesis.txt', 'r')\n",
    "print(next(f))\n",
    "print(next(f), end='')\n",
    "f.close()"
   ]
  },
  {
   "cell_type": "markdown",
   "metadata": {},
   "source": [
    "***\n",
    "In general, CMs are used to automatically run some sort of setup and then teardown code.\n",
    "\n",
    "We can thus leverage our own CMs to automatically run some \"setup\" and \"teardown\" to do any number of tasks.\n",
    "\n",
    "There are two main ways to create a Context Manager:\n",
    "1. By defining a class.\n",
    "1. By defining a generator.\n",
    "***\n",
    "When defining a class to build a CM there are two main methods we need to implement, the `__enter__` and the `__exit__` both define what happens when we *enter* and *exit* the `with` block.\n",
    "\n",
    "Below we'll create a simple timer CM that just prints out how many seconds it takes to run the code in the block. When we enter the block we'll start the timer and when we exit the block we end the timer.\n",
    "\n",
    "The `__exit__` method takes in three additional arguments for exception handling. If an exception occurs anywhere in the block the `__exit__` method is called and depending on your implementation either an exception is raised or the code handles it and continues. If at the end of `__exit__` we return `True` then if an exception occurs the code will handle it in the `__exit__` (if you choose to handle it) and continue after the with block."
   ]
  },
  {
   "cell_type": "code",
   "execution_count": 57,
   "metadata": {},
   "outputs": [],
   "source": [
    "from time import time\n",
    "\n",
    "class Timer:\n",
    "    def __enter__(self):\n",
    "        self.start = time()\n",
    "    \n",
    "    def __exit__(self, exc_type, exc_value, exc_traceback):\n",
    "        self.end = time()\n",
    "        print(f'{self.end - self.start:.4f} seconds to run')\n",
    "        \n",
    "        if exc_type is not None:\n",
    "            print('An exception happened:', exc_type, exc_value, exc_traceback)\n",
    "        return True"
   ]
  },
  {
   "cell_type": "code",
   "execution_count": 60,
   "metadata": {},
   "outputs": [
    {
     "name": "stdout",
     "output_type": "stream",
     "text": [
      "0.8478 seconds to run\n",
      "An exception happened: <class 'Exception'> AHH an exception! <traceback object at 0x111f05bc0>\n",
      "\n",
      "Result Sum: 12,499,997,500,000\n",
      "Expected Sum: 50,000,005,000,000\n"
     ]
    }
   ],
   "source": [
    "with Timer():\n",
    "    res = 0\n",
    "    # sum up all values between 1 and 10,000,000\n",
    "    for i in range(1, 10_000_001):\n",
    "        if i == 5_000_000:\n",
    "            raise Exception('AHH an exception!')\n",
    "            print('moore')\n",
    "        res += i\n",
    "    \n",
    "print()\n",
    "print(f'Result Sum: {res:,}')\n",
    "print(f'Expected Sum: {10_000_000*10_000_001 // 2:,}')"
   ]
  },
  {
   "cell_type": "markdown",
   "metadata": {},
   "source": [
    "The second way of defining a CM is by creating generator and decorating it with the `contextmanager` from `contextlib` which is part of the python standard library. Everyting before the `yield` is our `__enter__` and everything after is our `__exit__`."
   ]
  },
  {
   "cell_type": "code",
   "execution_count": 63,
   "metadata": {},
   "outputs": [],
   "source": [
    "from contextlib import contextmanager\n",
    "\n",
    "@contextmanager\n",
    "def timer():\n",
    "    start = time()\n",
    "    yield\n",
    "    end = time()\n",
    "    print(f'{end - start:.4f} seconds to run')"
   ]
  },
  {
   "cell_type": "code",
   "execution_count": 65,
   "metadata": {},
   "outputs": [
    {
     "name": "stdout",
     "output_type": "stream",
     "text": [
      "1.4670 seconds to run\n"
     ]
    }
   ],
   "source": [
    "with timer():\n",
    "    res = 0\n",
    "    for i in range(10_000_000):\n",
    "        res += i"
   ]
  },
  {
   "cell_type": "markdown",
   "metadata": {},
   "source": [
    "We'll also create a CM that mimics `open`, first by creating a class then with a generator."
   ]
  },
  {
   "cell_type": "code",
   "execution_count": 66,
   "metadata": {},
   "outputs": [],
   "source": [
    "class open_file:\n",
    "    \n",
    "    def __init__(self, filename, mode='r'):\n",
    "        self.filename = filename\n",
    "        self.mode = mode\n",
    "        \n",
    "    def __enter__(self):\n",
    "        self.file = open(self.filename, self.mode)\n",
    "        # notice we return the file we just opened\n",
    "        # can you guess why / what this does?\n",
    "        # if it's not clear now it should be in the next cell.\n",
    "        return self.file\n",
    "    \n",
    "    # we can collapse the three arguments into 1 using *\n",
    "    def __exit__(self, *excps):\n",
    "        self.file.close()\n",
    "        if excps[0] is not None:\n",
    "            print(excps)\n",
    "        return True"
   ]
  },
  {
   "cell_type": "code",
   "execution_count": 68,
   "metadata": {},
   "outputs": [
    {
     "name": "stdout",
     "output_type": "stream",
     "text": [
      "[1:1] In the beginning when God created the heavens and the earth,\n",
      "\n",
      "[1:2] the earth was a formless void and darkness covered the face of the deep, while a wind from God swept over the face of the waters.\n",
      "\n"
     ]
    },
    {
     "ename": "ValueError",
     "evalue": "I/O operation on closed file.",
     "output_type": "error",
     "traceback": [
      "\u001b[0;31m---------------------------------------------------------------------------\u001b[0m",
      "\u001b[0;31mValueError\u001b[0m                                Traceback (most recent call last)",
      "\u001b[0;32m<ipython-input-68-917d1be2136c>\u001b[0m in \u001b[0;36m<module>\u001b[0;34m\u001b[0m\n\u001b[1;32m      5\u001b[0m     \u001b[0mprint\u001b[0m\u001b[0;34m(\u001b[0m\u001b[0mnext\u001b[0m\u001b[0;34m(\u001b[0m\u001b[0mf\u001b[0m\u001b[0;34m)\u001b[0m\u001b[0;34m)\u001b[0m\u001b[0;34m\u001b[0m\u001b[0;34m\u001b[0m\u001b[0m\n\u001b[1;32m      6\u001b[0m \u001b[0;34m\u001b[0m\u001b[0m\n\u001b[0;32m----> 7\u001b[0;31m \u001b[0mprint\u001b[0m\u001b[0;34m(\u001b[0m\u001b[0mnext\u001b[0m\u001b[0;34m(\u001b[0m\u001b[0mf\u001b[0m\u001b[0;34m)\u001b[0m\u001b[0;34m)\u001b[0m\u001b[0;34m\u001b[0m\u001b[0;34m\u001b[0m\u001b[0m\n\u001b[0m",
      "\u001b[0;31mValueError\u001b[0m: I/O operation on closed file."
     ]
    }
   ],
   "source": [
    "# when we return the file in the __enter__\n",
    "# we can capture it in the with statement\n",
    "with open_file('static/Genesis.txt') as f:\n",
    "    print(next(f))\n",
    "    print(next(f))\n",
    "    \n",
    "print(next(f))"
   ]
  },
  {
   "cell_type": "markdown",
   "metadata": {},
   "source": [
    "Again using a generator."
   ]
  },
  {
   "cell_type": "code",
   "execution_count": 70,
   "metadata": {},
   "outputs": [],
   "source": [
    "@contextmanager\n",
    "def open_file2(filename, mode='r'):\n",
    "    file = open(filename, mode)\n",
    "    # we yield file for the same reason as above\n",
    "    yield file\n",
    "    file.close()"
   ]
  },
  {
   "cell_type": "code",
   "execution_count": 71,
   "metadata": {},
   "outputs": [
    {
     "name": "stdout",
     "output_type": "stream",
     "text": [
      "[1:1] In the beginning when God created the heavens and the earth,\n",
      "\n",
      "[1:2] the earth was a formless void and darkness covered the face of the deep, while a wind from God swept over the face of the waters.\n",
      "\n"
     ]
    }
   ],
   "source": [
    "with open_file2('static/Genesis.txt') as f:\n",
    "    print(next(f))\n",
    "    print(next(f))"
   ]
  },
  {
   "cell_type": "code",
   "execution_count": null,
   "metadata": {},
   "outputs": [],
   "source": []
  }
 ],
 "metadata": {
  "kernelspec": {
   "display_name": "Python 3.8",
   "language": "python",
   "name": "python3_8"
  },
  "language_info": {
   "codemirror_mode": {
    "name": "ipython",
    "version": 3
   },
   "file_extension": ".py",
   "mimetype": "text/x-python",
   "name": "python",
   "nbconvert_exporter": "python",
   "pygments_lexer": "ipython3",
   "version": "3.8.2"
  }
 },
 "nbformat": 4,
 "nbformat_minor": 4
}
