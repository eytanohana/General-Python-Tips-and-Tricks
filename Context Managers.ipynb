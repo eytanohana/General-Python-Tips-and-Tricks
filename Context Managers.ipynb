{
 "cells": [
  {
   "cell_type": "markdown",
   "metadata": {},
   "source": [
    "# Context Managers\n",
    "\n",
    "Context managers are normally used to allocate and release resources automatically without needing to worry about about doing it yourself. You normally use the `with` keyword when dealing with CMs.\n",
    "\n",
    "The most common example of a CM is when working with file IO. You normally see something like:\n",
    "```python\n",
    "with open('somefile.txt') as f:\n",
    "    do something...\n",
    "```\n",
    "We show an example below."
   ]
  },
  {
   "cell_type": "code",
   "execution_count": 4,
   "metadata": {},
   "outputs": [
    {
     "name": "stdout",
     "output_type": "stream",
     "text": [
      "[1:1] In the beginning when God created the heavens and the earth,\n",
      "\n",
      "[1:2] the earth was a formless void and darkness covered the face of the deep, while a wind from God swept over the face of the waters.\n",
      "\n"
     ]
    }
   ],
   "source": [
    "with open('static/Genesis.txt', 'r') as f:\n",
    "    print(next(f))\n",
    "    print(next(f))"
   ]
  },
  {
   "cell_type": "markdown",
   "metadata": {},
   "source": [
    "Here we open the file, print the first two lines, and then closes the file. The `open` CM handles opening and closing the file for you. The file is opened when you enter the `with` block and is closed when exiting the block. You can see that this is cleaner then manually opening and closing the file like below. Which is also prone to errors like forgetting to close the file yourself."
   ]
  },
  {
   "cell_type": "code",
   "execution_count": 5,
   "metadata": {},
   "outputs": [
    {
     "name": "stdout",
     "output_type": "stream",
     "text": [
      "[1:1] In the beginning when God created the heavens and the earth,\n",
      "\n",
      "[1:2] the earth was a formless void and darkness covered the face of the deep, while a wind from God swept over the face of the waters.\n",
      "\n"
     ]
    }
   ],
   "source": [
    "f = open('static/Genesis.txt', 'r')\n",
    "print(next(f))\n",
    "print(next(f))\n",
    "f.close()"
   ]
  },
  {
   "cell_type": "markdown",
   "metadata": {},
   "source": [
    "In general, CMs are used to automatically run some sort of setup and then teardown code.\n",
    "\n",
    "We can thus leverage our own CMs to automatically run some \"setup\" and \"teardown\" to do any number of tasks.\n",
    "\n",
    "There are two main ways to create a Context Manager:\n",
    "1. By defining a class.\n",
    "1. By defining a generator.\n",
    "\n",
    "***\n",
    "\n"
   ]
  },
  {
   "cell_type": "code",
   "execution_count": 1,
   "metadata": {},
   "outputs": [],
   "source": [
    "from time import time\n",
    "\n",
    "class Timer:\n",
    "    def __enter__(self):\n",
    "        self.start = time()\n",
    "    \n",
    "    def __exit__(self, exc_type, exc_value, exc_traceback):\n",
    "        self.end = time()\n",
    "        print(self.end - self.start, 'seconds to run')"
   ]
  },
  {
   "cell_type": "code",
   "execution_count": 33,
   "metadata": {},
   "outputs": [
    {
     "name": "stdout",
     "output_type": "stream",
     "text": [
      "1.3250179290771484 seconds to run\n"
     ]
    }
   ],
   "source": [
    "with Timer():\n",
    "    res = 0\n",
    "    for i in range(10_000_000):\n",
    "        res += i"
   ]
  },
  {
   "cell_type": "code",
   "execution_count": 34,
   "metadata": {},
   "outputs": [],
   "source": [
    "from contextlib import contextmanager\n",
    "\n",
    "@contextmanager\n",
    "def timer():\n",
    "    start = time()\n",
    "    yield\n",
    "    end = time()\n",
    "    print(end - start, 'seconds to run')"
   ]
  },
  {
   "cell_type": "code",
   "execution_count": 35,
   "metadata": {},
   "outputs": [
    {
     "name": "stdout",
     "output_type": "stream",
     "text": [
      "1.3074147701263428 seconds to run\n"
     ]
    }
   ],
   "source": [
    "with timer():\n",
    "    res = 0\n",
    "    for i in range(10_000_000):\n",
    "        res += i"
   ]
  },
  {
   "cell_type": "code",
   "execution_count": null,
   "metadata": {},
   "outputs": [],
   "source": []
  }
 ],
 "metadata": {
  "kernelspec": {
   "display_name": "Python 3",
   "language": "python",
   "name": "python3"
  },
  "language_info": {
   "codemirror_mode": {
    "name": "ipython",
    "version": 3
   },
   "file_extension": ".py",
   "mimetype": "text/x-python",
   "name": "python",
   "nbconvert_exporter": "python",
   "pygments_lexer": "ipython3",
   "version": "3.7.6"
  }
 },
 "nbformat": 4,
 "nbformat_minor": 4
}
