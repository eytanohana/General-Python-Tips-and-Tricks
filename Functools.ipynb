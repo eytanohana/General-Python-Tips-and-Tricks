{
 "cells": [
  {
   "cell_type": "markdown",
   "metadata": {},
   "source": [
    "# functools\n",
    "\n",
    "> The [functools](https://docs.python.org/3.8/library/functools.html) module is for higher-order functions: functions that act on or return other functions. In general, any callable object can be treated as a function for the purposes of this module.\n",
    "\n",
    "***\n",
    "\n",
    "## functools.cached_property\n",
    "\n",
    "`cached_property` is applied to a method of a class that is normally expensive to compute but **also doesn't change throughout the lifetime of the object**. The function turns a method into a property and caches the results the first time the method is called. Every subsequent time the method is called the cached results are returned."
   ]
  },
  {
   "cell_type": "code",
   "execution_count": 1,
   "metadata": {},
   "outputs": [],
   "source": [
    "from functools import cached_property"
   ]
  },
  {
   "cell_type": "code",
   "execution_count": 2,
   "metadata": {},
   "outputs": [],
   "source": [
    "class LongList:\n",
    "    \n",
    "    def __init__(self, data):\n",
    "        self._data = data\n",
    "        \n",
    "    @cached_property\n",
    "    def maximum(self):\n",
    "        print('Only prints first time')\n",
    "        return max(self._data)\n",
    "    \n",
    "    @cached_property\n",
    "    def minimum(self):\n",
    "        print('Only prints first time')\n",
    "        return min(self._data)"
   ]
  },
  {
   "cell_type": "code",
   "execution_count": 3,
   "metadata": {},
   "outputs": [
    {
     "name": "stdout",
     "output_type": "stream",
     "text": [
      "Only prints first time\n",
      "Only prints first time\n",
      "500\t5\n",
      "\n",
      "500\t5\n",
      "500\t5\n"
     ]
    }
   ],
   "source": [
    "import random\n",
    "\n",
    "ls = LongList([random.randint(5, 500) for _ in range(1_000_000)])\n",
    "\n",
    "print(ls.maximum, ls.minimum, sep='\\t', end='\\n\\n')\n",
    "print(ls.maximum, ls.minimum, sep='\\t')\n",
    "\n",
    "# Even when you change the underlying data structure\n",
    "# that minimum and maximum work on\n",
    "ls._data = [random.randint(100, 300) for _ in range(1_000_000)]\n",
    "# minimum and maximum don't recompute \n",
    "print(ls.maximum, ls.minimum, sep='\\t')"
   ]
  },
  {
   "cell_type": "markdown",
   "metadata": {},
   "source": [
    "## functools.cmp_to_key\n",
    "\n",
    "Transforms a comparison function into a [key function](https://docs.python.org/3.8/glossary.html#term-key-function). \\\n",
    "A comparison function is one that takes in two arguments, call them `a` and `b`, and returns -1 if a < b, 0 if a == b, or 1 if a > b."
   ]
  },
  {
   "cell_type": "code",
   "execution_count": 4,
   "metadata": {},
   "outputs": [],
   "source": [
    "from functools import cmp_to_key"
   ]
  },
  {
   "cell_type": "code",
   "execution_count": 5,
   "metadata": {},
   "outputs": [],
   "source": [
    "@cmp_to_key\n",
    "def compare(a, b):\n",
    "    if a < b:\n",
    "        return -1\n",
    "    elif a > b:\n",
    "        return 1\n",
    "    return 0"
   ]
  },
  {
   "cell_type": "code",
   "execution_count": 6,
   "metadata": {},
   "outputs": [
    {
     "name": "stdout",
     "output_type": "stream",
     "text": [
      "[48, 16, 20, 22, 12, 28, 2, 35, 12, 26, 43, 14, 5, 16, 12, 47, 3, 4, 48, 14, 27, 36, 4, 46, 31, 14, 35, 33, 17, 50, 42, 23, 28, 39, 37, 50, 18, 25, 17, 16, 38, 40, 14, 14, 34, 32, 8, 35, 39, 27]\n",
      "\n",
      "[2, 3, 4, 4, 5, 8, 12, 12, 12, 14, 14, 14, 14, 14, 16, 16, 16, 17, 17, 18, 20, 22, 23, 25, 26, 27, 27, 28, 28, 31, 32, 33, 34, 35, 35, 35, 36, 37, 38, 39, 39, 40, 42, 43, 46, 47, 48, 48, 50, 50]\n"
     ]
    }
   ],
   "source": [
    "ls = [random.randint(1, 50) for _ in range(50)]\n",
    "\n",
    "print(ls)\n",
    "print()\n",
    "\n",
    "print(sorted(ls, key=compare))"
   ]
  },
  {
   "cell_type": "markdown",
   "metadata": {},
   "source": [
    "## lru_cache\n",
    "\n",
    "Saves the `maxsize` most recent calls of a function for memoization. It is used to save time and computation on function calls with the same arguments multiple times.\n",
    "\n",
    "We'll use the fibonacci sequence to illustrate the performance boost."
   ]
  },
  {
   "cell_type": "code",
   "execution_count": 7,
   "metadata": {},
   "outputs": [],
   "source": [
    "from functools import lru_cache"
   ]
  },
  {
   "cell_type": "code",
   "execution_count": 8,
   "metadata": {},
   "outputs": [],
   "source": [
    "def fib(n):\n",
    "    \"\"\"Return the nth fibonacci number\"\"\"\n",
    "    if n <= 1:\n",
    "        return 1\n",
    "    return fib(n-1) + fib(n-2)"
   ]
  },
  {
   "cell_type": "code",
   "execution_count": 10,
   "metadata": {},
   "outputs": [
    {
     "name": "stdout",
     "output_type": "stream",
     "text": [
      "CPU times: user 5.94 s, sys: 17.6 ms, total: 5.96 s\n",
      "Wall time: 6 s\n"
     ]
    },
    {
     "data": {
      "text/plain": [
       "24157817"
      ]
     },
     "execution_count": 10,
     "metadata": {},
     "output_type": "execute_result"
    }
   ],
   "source": [
    "# takes around 5 - 6 seconds on a 2.6 GHz Intel Core i5\n",
    "%time fib(36)"
   ]
  },
  {
   "cell_type": "code",
   "execution_count": 17,
   "metadata": {},
   "outputs": [],
   "source": [
    "@lru_cache\n",
    "def fib(n):\n",
    "    \"\"\"Return the nth fibonacci number\"\"\"\n",
    "    if n <= 1:\n",
    "        return 1\n",
    "    return fib(n-1) + fib(n-2)"
   ]
  },
  {
   "cell_type": "code",
   "execution_count": 22,
   "metadata": {},
   "outputs": [
    {
     "name": "stdout",
     "output_type": "stream",
     "text": [
      "CPU times: user 4 µs, sys: 0 ns, total: 4 µs\n",
      "Wall time: 5.96 µs\n"
     ]
    },
    {
     "data": {
      "text/plain": [
       "24157817"
      ]
     },
     "execution_count": 22,
     "metadata": {},
     "output_type": "execute_result"
    }
   ],
   "source": [
    "%time fib(36)"
   ]
  },
  {
   "cell_type": "markdown",
   "metadata": {},
   "source": [
    "without lru_cache computing the 36<sup>th</sup> fibonacci takes around 6 seconds while with it computing it takes only around 40 microseconds. That's a 150,000 times speed-up!"
   ]
  },
  {
   "cell_type": "markdown",
   "metadata": {},
   "source": [
    "## total_ordering\n",
    "\n",
    "If a user defined class implements operations such as obj1 > obj2, known as rich comparison ordering methods then as long as you implement `__eq__` along with one of `__le__`, `__ge__`, `__lt__`, `__gt__` you don't have to implement the rest. It's done for us.\n",
    "\n",
    "Note from the documentation:\n",
    "> While this decorator makes it easy to create well behaved totally ordered types, it does come at the cost of slower execution and more complex stack traces for the derived comparison methods. If performance benchmarking indicates this is a bottleneck for a given application, implementing all six rich comparison methods instead is likely to provide an easy speed boost."
   ]
  },
  {
   "cell_type": "code",
   "execution_count": 27,
   "metadata": {},
   "outputs": [],
   "source": [
    "from functools import total_ordering"
   ]
  },
  {
   "cell_type": "code",
   "execution_count": 37,
   "metadata": {},
   "outputs": [],
   "source": [
    "from math import isclose\n",
    "# we'l define an object that can be compared with others of its type\n",
    "@total_ordering\n",
    "class Area:\n",
    "    \n",
    "    def __init__(self, length, width):\n",
    "        self.length = length\n",
    "        self.width = width\n",
    "        \n",
    "    @property\n",
    "    def area(self):\n",
    "        return self.length * self.width\n",
    "    \n",
    "    def __repr__(self):\n",
    "        return f'Area({self.length}, {self.width})'\n",
    "    \n",
    "    def __str__(self):\n",
    "        return f'Area: {self.area} sqft.'\n",
    "    \n",
    "    def __eq__(self, other):\n",
    "        return isclose(self.area, other.area)\n",
    "    \n",
    "    def __lt__(self, other):\n",
    "        return self.area < other.area"
   ]
  },
  {
   "cell_type": "code",
   "execution_count": 50,
   "metadata": {},
   "outputs": [
    {
     "name": "stdout",
     "output_type": "stream",
     "text": [
      "Area: 96 sqft.\n",
      "Area: 104 sqft.\n"
     ]
    }
   ],
   "source": [
    "a1 = Area(32, 3)\n",
    "print(a1)\n",
    "a2 = Area(8, 13)\n",
    "print(a2)"
   ]
  },
  {
   "cell_type": "code",
   "execution_count": 51,
   "metadata": {},
   "outputs": [
    {
     "name": "stdout",
     "output_type": "stream",
     "text": [
      "False\n",
      "True\n",
      "True\n",
      "False\n",
      "False\n"
     ]
    }
   ],
   "source": [
    "print(a1 == a2)\n",
    "print(a1 < a2)\n",
    "print(a1 <= a2)\n",
    "\n",
    "print(a1 > a2)\n",
    "print(a1 >= a2)"
   ]
  },
  {
   "cell_type": "markdown",
   "metadata": {},
   "source": [
    "# partial\n",
    "\n",
    "If your'e familiar with functional programming `partial` allows you to take in a function and return a function where some of its parameters are filled in. This lets us dynamically create functions that are all based on one, but all can perform slightly different tasks.\n",
    "\n",
    "Here's an exceedingly stupid example."
   ]
  }
 ],
 "metadata": {
  "kernelspec": {
   "display_name": "Python 3.8",
   "language": "python",
   "name": "python3_8"
  },
  "language_info": {
   "codemirror_mode": {
    "name": "ipython",
    "version": 3
   },
   "file_extension": ".py",
   "mimetype": "text/x-python",
   "name": "python",
   "nbconvert_exporter": "python",
   "pygments_lexer": "ipython3",
   "version": "3.8.2"
  }
 },
 "nbformat": 4,
 "nbformat_minor": 4
}
