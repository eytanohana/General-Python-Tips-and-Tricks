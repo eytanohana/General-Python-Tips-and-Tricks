{
 "cells": [
  {
   "cell_type": "markdown",
   "metadata": {},
   "source": [
    "# functools\n",
    "\n",
    "> The [functools](https://docs.python.org/3.8/library/functools.html) module is for higher-order functions: functions that act on or return other functions. In general, any callable object can be treated as a function for the purposes of this module.\n",
    "\n",
    "***\n",
    "\n",
    "## functools.cached_property\n",
    "\n",
    "`cached_property` is applied to a method of a class that is normally expensive to compute but **also doesn't change throughout the lifetime of the object**. The function turns a method into a property and caches the results the first time the method is called. Every subsequent time the method is called the cached results are returned."
   ]
  },
  {
   "cell_type": "code",
   "execution_count": 6,
   "metadata": {},
   "outputs": [],
   "source": [
    "from functools import cached_property"
   ]
  },
  {
   "cell_type": "code",
   "execution_count": 25,
   "metadata": {},
   "outputs": [],
   "source": [
    "class LongList:\n",
    "    \n",
    "    def __init__(self, data):\n",
    "        self._data = data\n",
    "        \n",
    "    @cached_property\n",
    "    def maximum(self):\n",
    "        print('Only prints first time')\n",
    "        return max(self._data)\n",
    "    \n",
    "    @cached_property\n",
    "    def minimum(self):\n",
    "        print('Only prints first time')\n",
    "        return min(self._data)"
   ]
  },
  {
   "cell_type": "code",
   "execution_count": 39,
   "metadata": {},
   "outputs": [
    {
     "name": "stdout",
     "output_type": "stream",
     "text": [
      "Only prints first time\n",
      "Only prints first time\n",
      "500\t5\n",
      "\n",
      "500\t5\n",
      "500\t5\n"
     ]
    }
   ],
   "source": [
    "import random\n",
    "\n",
    "ls = LongList([random.randint(5, 500) for _ in range(1_000_000)])\n",
    "\n",
    "print(ls.maximum, ls.minimum, sep='\\t', end='\\n\\n')\n",
    "print(ls.maximum, ls.minimum, sep='\\t')\n",
    "\n",
    "# Even when you change the underlying data structure\n",
    "# that minimum and maximum work on\n",
    "ls._data = [random.randint(100, 300) for _ in range(1_000_000)]\n",
    "# minimum and maximum don't recompute \n",
    "print(ls.maximum, ls.minimum, sep='\\t')"
   ]
  },
  {
   "cell_type": "markdown",
   "metadata": {},
   "source": [
    "## functools.cmp_to_key\n",
    "\n",
    "Transforms a comparison function into a [key function](https://docs.python.org/3.8/glossary.html#term-key-function). \\\n",
    "A comparison function is one that takes in two arguments, call them `a` and `b`, and returns -1 if a < b, 0 if a == b, or 1 if a > b."
   ]
  },
  {
   "cell_type": "code",
   "execution_count": null,
   "metadata": {},
   "outputs": [],
   "source": [
    "def compare()"
   ]
  }
 ],
 "metadata": {
  "kernelspec": {
   "display_name": "Python 3.8",
   "language": "python",
   "name": "python3_8"
  },
  "language_info": {
   "codemirror_mode": {
    "name": "ipython",
    "version": 3
   },
   "file_extension": ".py",
   "mimetype": "text/x-python",
   "name": "python",
   "nbconvert_exporter": "python",
   "pygments_lexer": "ipython3",
   "version": "3.8.2"
  }
 },
 "nbformat": 4,
 "nbformat_minor": 4
}
