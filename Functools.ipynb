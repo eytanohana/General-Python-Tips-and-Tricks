{
 "cells": [
  {
   "cell_type": "markdown",
   "metadata": {},
   "source": [
    "# functools\n",
    "\n",
    "> The [functools](https://docs.python.org/3.8/library/functools.html) module is for higher-order functions: functions that act on or return other functions. In general, any callable object can be treated as a function for the purposes of this module.\n",
    "\n",
    "***\n",
    "\n",
    "## functools.cached_property\n",
    "\n",
    "`cached_property` is applied to a method of a class that is normally expensive to compute but **also doesn't change throughout the lifetime of the object**. The function turns a method into a property and caches the results the first time the method is called. Every subsequent time the method is called the cached results are returned."
   ]
  },
  {
   "cell_type": "code",
   "execution_count": 1,
   "metadata": {},
   "outputs": [],
   "source": [
    "from functools import cached_property"
   ]
  },
  {
   "cell_type": "code",
   "execution_count": 2,
   "metadata": {},
   "outputs": [],
   "source": [
    "class LongList:\n",
    "    \n",
    "    def __init__(self, data):\n",
    "        self._data = data\n",
    "        \n",
    "    @cached_property\n",
    "    def maximum(self):\n",
    "        print('Only prints first time')\n",
    "        return max(self._data)\n",
    "    \n",
    "    @cached_property\n",
    "    def minimum(self):\n",
    "        print('Only prints first time')\n",
    "        return min(self._data)"
   ]
  },
  {
   "cell_type": "code",
   "execution_count": 3,
   "metadata": {},
   "outputs": [
    {
     "name": "stdout",
     "output_type": "stream",
     "text": [
      "Only prints first time\n",
      "Only prints first time\n",
      "500\t5\n",
      "\n",
      "500\t5\n",
      "500\t5\n"
     ]
    }
   ],
   "source": [
    "import random\n",
    "\n",
    "ls = LongList([random.randint(5, 500) for _ in range(1_000_000)])\n",
    "\n",
    "print(ls.maximum, ls.minimum, sep='\\t', end='\\n\\n')\n",
    "print(ls.maximum, ls.minimum, sep='\\t')\n",
    "\n",
    "# Even when you change the underlying data structure\n",
    "# that minimum and maximum work on\n",
    "ls._data = [random.randint(100, 300) for _ in range(1_000_000)]\n",
    "# minimum and maximum don't recompute \n",
    "print(ls.maximum, ls.minimum, sep='\\t')"
   ]
  },
  {
   "cell_type": "markdown",
   "metadata": {},
   "source": [
    "## functools.cmp_to_key\n",
    "\n",
    "Transforms a comparison function into a [key function](https://docs.python.org/3.8/glossary.html#term-key-function). \\\n",
    "A comparison function is one that takes in two arguments, call them `a` and `b`, and returns -1 if a < b, 0 if a == b, or 1 if a > b."
   ]
  },
  {
   "cell_type": "code",
   "execution_count": 4,
   "metadata": {},
   "outputs": [],
   "source": [
    "from functools import cmp_to_key"
   ]
  },
  {
   "cell_type": "code",
   "execution_count": 5,
   "metadata": {},
   "outputs": [],
   "source": [
    "@cmp_to_key\n",
    "def compare(a, b):\n",
    "    if a < b:\n",
    "        return -1\n",
    "    elif a > b:\n",
    "        return 1\n",
    "    return 0"
   ]
  },
  {
   "cell_type": "code",
   "execution_count": 6,
   "metadata": {},
   "outputs": [
    {
     "name": "stdout",
     "output_type": "stream",
     "text": [
      "[42, 23, 10, 16, 14, 7, 36, 40, 18, 36, 13, 45, 27, 20, 21, 35, 12, 34, 28, 39, 20, 22, 48, 3, 25, 43, 49, 46, 10, 46, 1, 39, 5, 13, 24, 25, 43, 23, 13, 49, 9, 14, 17, 43, 36, 22, 34, 47, 24, 42]\n",
      "\n",
      "[1, 3, 5, 7, 9, 10, 10, 12, 13, 13, 13, 14, 14, 16, 17, 18, 20, 20, 21, 22, 22, 23, 23, 24, 24, 25, 25, 27, 28, 34, 34, 35, 36, 36, 36, 39, 39, 40, 42, 42, 43, 43, 43, 45, 46, 46, 47, 48, 49, 49]\n"
     ]
    }
   ],
   "source": [
    "ls = [random.randint(1, 50) for _ in range(50)]\n",
    "\n",
    "print(ls)\n",
    "print()\n",
    "\n",
    "print(sorted(ls, key=compare))"
   ]
  },
  {
   "cell_type": "markdown",
   "metadata": {},
   "source": [
    "## lru_cache\n",
    "\n",
    "Saves the `maxsize` most recent calls of a function for memoization. It is used to save time and computation on function calls with the same arguments multiple times.\n",
    "\n",
    "We'll use the fibonacci sequence to illustrate the performance boost."
   ]
  },
  {
   "cell_type": "code",
   "execution_count": 16,
   "metadata": {},
   "outputs": [],
   "source": [
    "from functools import lru_cache"
   ]
  },
  {
   "cell_type": "code",
   "execution_count": 20,
   "metadata": {},
   "outputs": [],
   "source": [
    "def fib(n):\n",
    "    \"\"\"Return the nth fibonacci number\"\"\"\n",
    "    if n <= 1:\n",
    "        return 1\n",
    "    return fib(n-1) + fib(n-2)"
   ]
  },
  {
   "cell_type": "code",
   "execution_count": 21,
   "metadata": {},
   "outputs": [
    {
     "name": "stdout",
     "output_type": "stream",
     "text": [
      "CPU times: user 6.02 s, sys: 25.2 ms, total: 6.04 s\n",
      "Wall time: 6.36 s\n"
     ]
    },
    {
     "data": {
      "text/plain": [
       "24157817"
      ]
     },
     "execution_count": 21,
     "metadata": {},
     "output_type": "execute_result"
    }
   ],
   "source": [
    "%time fib(36)"
   ]
  },
  {
   "cell_type": "code",
   "execution_count": 23,
   "metadata": {},
   "outputs": [],
   "source": [
    "@lru_cache\n",
    "def fib(n):\n",
    "    \"\"\"Return the nth fibonacci number\"\"\"\n",
    "    if n <= 1:\n",
    "        return 1\n",
    "    return fib(n-1) + fib(n-2)"
   ]
  },
  {
   "cell_type": "code",
   "execution_count": 24,
   "metadata": {},
   "outputs": [
    {
     "name": "stdout",
     "output_type": "stream",
     "text": [
      "CPU times: user 31 µs, sys: 0 ns, total: 31 µs\n",
      "Wall time: 34.1 µs\n"
     ]
    },
    {
     "data": {
      "text/plain": [
       "24157817"
      ]
     },
     "execution_count": 24,
     "metadata": {},
     "output_type": "execute_result"
    }
   ],
   "source": [
    "%time fib(36)"
   ]
  },
  {
   "cell_type": "markdown",
   "metadata": {},
   "source": [
    "## total_ordering\n",
    "\n",
    "If a user defined class implements operations such as object1 > object2, known as rich comparison ordering methods then as long as you implement `__eq__` along with one of `__le__`, `__ge__`, `__lt__`, `__gt__`."
   ]
  },
  {
   "cell_type": "code",
   "execution_count": null,
   "metadata": {},
   "outputs": [],
   "source": []
  }
 ],
 "metadata": {
  "kernelspec": {
   "display_name": "Python 3.8",
   "language": "python",
   "name": "python3_8"
  },
  "language_info": {
   "codemirror_mode": {
    "name": "ipython",
    "version": 3
   },
   "file_extension": ".py",
   "mimetype": "text/x-python",
   "name": "python",
   "nbconvert_exporter": "python",
   "pygments_lexer": "ipython3",
   "version": "3.8.2"
  }
 },
 "nbformat": 4,
 "nbformat_minor": 4
}
