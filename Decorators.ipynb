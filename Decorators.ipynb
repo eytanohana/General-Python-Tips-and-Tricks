{
 "cells": [
  {
   "cell_type": "markdown",
   "metadata": {},
   "source": [
    "# Decorators\n",
    "\n",
    "A decorator is just a function that takes in another function as an argument, adds some functionality to it (without modifying the actual function) and returns it with the added functionality.\n",
    "\n",
    "For example, we'll create a decorator, called `timer`, that just times the execution of a function."
   ]
  },
  {
   "cell_type": "code",
   "execution_count": 68,
   "metadata": {},
   "outputs": [],
   "source": [
    "from time import time"
   ]
  },
  {
   "cell_type": "code",
   "execution_count": 93,
   "metadata": {},
   "outputs": [],
   "source": [
    "# note the decorator only takes \n",
    "# in func as a parameter.\n",
    "def timer(func):\n",
    "    def wrapper():\n",
    "        start = time()\n",
    "        result = func()\n",
    "        end = time()\n",
    "        print(f'{func.__name__} took {end - start:.4f} seconds to run.')\n",
    "        return result\n",
    "    return wrapper"
   ]
  },
  {
   "cell_type": "markdown",
   "metadata": {},
   "source": [
    "`timer` takes in a function and returns a new function that just times how long it takes our function to execute and prints the results. The function the decorator returns is commonly called wrapper because it *wraps* our original function with extra functionaity. \n",
    "\n",
    "We'll define a function that takes some time to compute, then we can *decorate* it with our timer decorator to see how long it takes."
   ]
  },
  {
   "cell_type": "code",
   "execution_count": 82,
   "metadata": {},
   "outputs": [
    {
     "name": "stdout",
     "output_type": "stream",
     "text": [
      "run waste_time once before we decorate it\n",
      "50,000,005,000,001\n"
     ]
    }
   ],
   "source": [
    "# waste_time just sums up all the numbers \n",
    "# between 1 and 10 million.\n",
    "def waste_time():\n",
    "    sum = 1\n",
    "    for i in range(1, 10_000_001):\n",
    "        sum += i  \n",
    "    return sum\n",
    "\n",
    "print('run waste_time once before we decorate it')\n",
    "print(f'{waste_time():,}')\n",
    "\n",
    "# To decorate this function with our timer we can just write:\n",
    "waste_time = timer(waste_time)"
   ]
  },
  {
   "cell_type": "code",
   "execution_count": 83,
   "metadata": {},
   "outputs": [
    {
     "name": "stdout",
     "output_type": "stream",
     "text": [
      "waste_time took 0.6890 seconds to run.\n"
     ]
    },
    {
     "data": {
      "text/plain": [
       "50000005000001"
      ]
     },
     "execution_count": 83,
     "metadata": {},
     "output_type": "execute_result"
    }
   ],
   "source": [
    "waste_time()"
   ]
  },
  {
   "cell_type": "markdown",
   "metadata": {},
   "source": [
    "We see that in order to apply our decorator we have to call\n",
    "```python\n",
    "waste_time = timer(waste_time)\n",
    "```\n",
    "or more generally\n",
    "```python\n",
    "func = decorator(func)\n",
    "```\n",
    "but python also offers a different way of applying a decorator to a function, just add\n",
    "```python \n",
    "@decorator\n",
    "def func():\n",
    "    ...\n",
    "```\n",
    "This method of decorating a function is much more common than the former."
   ]
  },
  {
   "cell_type": "code",
   "execution_count": 84,
   "metadata": {},
   "outputs": [],
   "source": [
    "@timer\n",
    "def waste_time():\n",
    "    sum = 1\n",
    "    for i in range(1, 10_000_001):\n",
    "        sum += i  \n",
    "    return sum"
   ]
  },
  {
   "cell_type": "code",
   "execution_count": 85,
   "metadata": {},
   "outputs": [
    {
     "name": "stdout",
     "output_type": "stream",
     "text": [
      "waste_time took 0.6864 seconds to run.\n"
     ]
    },
    {
     "data": {
      "text/plain": [
       "50000005000001"
      ]
     },
     "execution_count": 85,
     "metadata": {},
     "output_type": "execute_result"
    }
   ],
   "source": [
    "waste_time()"
   ]
  },
  {
   "cell_type": "markdown",
   "metadata": {},
   "source": [
    "```python\n",
    "@decorator\n",
    "def func():\n",
    "    ...\n",
    "```\n",
    "is just [syntactic sugar](https://en.wikipedia.org/wiki/Syntactic_sugar) for \n",
    "```python\n",
    "func = decorator(func)\n",
    "```\n",
    "\n",
    "## Decorators for functions with parameters\n",
    "\n",
    "But so far we have a problem. What if our function takes in parameters? \\\n",
    "In this case we just have to add the \\*args and \\**kwargs to our wrapper parameters and function parameters. This way we ensure that any parameters our function may take get passed along to it. This will still work for functions that take no arguments (both args and kwargs will be empty)\n",
    "\n",
    "As a basic example, we'll redefine our waste_time function to take in a parameter, n, that determines what number to iterate up to.\n",
    "We also need to modify our timer decorator in order to pass along the argumnent to waste_time in the wrapper."
   ]
  },
  {
   "cell_type": "code",
   "execution_count": 89,
   "metadata": {},
   "outputs": [],
   "source": [
    "def timer(func):\n",
    "    def wrapper(*args, **kwargs):\n",
    "        start = time()\n",
    "        result = func(*args, **kwargs)\n",
    "        end = time()\n",
    "        print(f'{func.__name__} took {end - start:.4f} seconds to run.')\n",
    "        return result\n",
    "    return wrapper"
   ]
  },
  {
   "cell_type": "code",
   "execution_count": 90,
   "metadata": {},
   "outputs": [],
   "source": [
    "@timer\n",
    "def waste_time(n=10_000_000):\n",
    "    sum = 0\n",
    "    for i in range(1, n + 1):\n",
    "        sum += i\n",
    "    return sum"
   ]
  },
  {
   "cell_type": "code",
   "execution_count": 91,
   "metadata": {},
   "outputs": [
    {
     "name": "stdout",
     "output_type": "stream",
     "text": [
      "waste_time took 3.6096 seconds to run.\n"
     ]
    },
    {
     "data": {
      "text/plain": [
       "1250000025000000"
      ]
     },
     "execution_count": 91,
     "metadata": {},
     "output_type": "execute_result"
    }
   ],
   "source": [
    "waste_time(50_000_000)"
   ]
  },
  {
   "cell_type": "markdown",
   "metadata": {},
   "source": [
    "## Decorators with arguments\n",
    "\n",
    "We can even create decorators that take in arguments when they decorate a function. For example let's say we have some sort of mathematical function $f(x)$. If we wanted to compose it on itself, we would just do $f(f(x))$ or for ease of notation we'll call it $f^2(x)$. If we wanted to compose $f$ on itself 3 times we would just do $f(f(f(x)))$ or just $f^3(x)$.\n",
    "\n",
    "Let's write a decorator that let's us compose a function on itself n times.\n",
    "\n",
    "In order to do this we just take our existing structure of defining a decorator and just wrap it all in just one more function that would take in this new parameter."
   ]
  },
  {
   "cell_type": "code",
   "execution_count": 95,
   "metadata": {},
   "outputs": [],
   "source": [
    "def compose(n=1):\n",
    "    def compose_dec(func):\n",
    "        def wrapper(*args, **kwargs):\n",
    "            res = func(*args, **kwargs)\n",
    "            for i in range(n-1):\n",
    "                res = func(res)\n",
    "            return res\n",
    "        return wrapper\n",
    "    return compose_dec"
   ]
  },
  {
   "cell_type": "markdown",
   "metadata": {},
   "source": [
    "We created our decorator, now we'll create a simple function that takes in a number, $x$, and returns $x + 1$."
   ]
  },
  {
   "cell_type": "code",
   "execution_count": 107,
   "metadata": {},
   "outputs": [],
   "source": [
    "@compose(3)\n",
    "def plus_one(x):\n",
    "    return x + 1"
   ]
  },
  {
   "cell_type": "code",
   "execution_count": 108,
   "metadata": {},
   "outputs": [
    {
     "data": {
      "text/plain": [
       "13"
      ]
     },
     "execution_count": 108,
     "metadata": {},
     "output_type": "execute_result"
    }
   ],
   "source": [
    "plus_one(10)"
   ]
  },
  {
   "cell_type": "markdown",
   "metadata": {},
   "source": [
    "Since we composed plus_one on itself 3 times, we effecitvely just get a new function that adds 3 to any number."
   ]
  },
  {
   "cell_type": "code",
   "execution_count": 125,
   "metadata": {},
   "outputs": [],
   "source": [
    "@compose(2)\n",
    "def concat(string):\n",
    "    return string + ' ' +  string"
   ]
  },
  {
   "cell_type": "code",
   "execution_count": 126,
   "metadata": {},
   "outputs": [
    {
     "data": {
      "text/plain": [
       "'hello hello hello hello'"
      ]
     },
     "execution_count": 126,
     "metadata": {},
     "output_type": "execute_result"
    }
   ],
   "source": [
    "concat('hello')"
   ]
  },
  {
   "cell_type": "code",
   "execution_count": null,
   "metadata": {},
   "outputs": [],
   "source": []
  }
 ],
 "metadata": {
  "kernelspec": {
   "display_name": "data_science",
   "language": "python",
   "name": "data_science"
  },
  "language_info": {
   "codemirror_mode": {
    "name": "ipython",
    "version": 3
   },
   "file_extension": ".py",
   "mimetype": "text/x-python",
   "name": "python",
   "nbconvert_exporter": "python",
   "pygments_lexer": "ipython3",
   "version": "3.7.7"
  }
 },
 "nbformat": 4,
 "nbformat_minor": 4
}
