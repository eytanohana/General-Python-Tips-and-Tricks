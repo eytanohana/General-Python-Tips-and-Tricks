{
 "cells": [
  {
   "cell_type": "markdown",
   "metadata": {},
   "source": [
    "# Decorators\n",
    "\n",
    "A decorator is just a function that takes in another function as an argument, adds some functionality to it (without modifying the actual function) and returns it with the added functionality.\n",
    "\n",
    "For example, we'll create a decorator, called `timer`, that just times the execution of a function."
   ]
  },
  {
   "cell_type": "code",
   "execution_count": 68,
   "metadata": {},
   "outputs": [],
   "source": [
    "from time import time"
   ]
  },
  {
   "cell_type": "code",
   "execution_count": 81,
   "metadata": {},
   "outputs": [],
   "source": [
    "def timer(func):\n",
    "    def wrapper():\n",
    "        start = time()\n",
    "        result = func()\n",
    "        end = time()\n",
    "        print(f'{func.__name__} took {end - start:.4f} seconds to run.')\n",
    "        return result\n",
    "    return wrapper"
   ]
  },
  {
   "cell_type": "markdown",
   "metadata": {},
   "source": [
    "`timer` takes in a function and returns a new function that just times how long it takes our function to execute and prints the results. The function the decorator returns is commonly called wrapper because it *wraps* our original function with extra functionaity. \n",
    "\n",
    "We'll define a function that takes some time to compute, then we can *decorate* it with our timer decorator to see how long it takes."
   ]
  },
  {
   "cell_type": "code",
   "execution_count": 82,
   "metadata": {},
   "outputs": [
    {
     "name": "stdout",
     "output_type": "stream",
     "text": [
      "run waste_time once before we decorate it\n",
      "50,000,005,000,001\n"
     ]
    }
   ],
   "source": [
    "# waste_time just sums up all the numbers \n",
    "# between 1 and 10 million.\n",
    "def waste_time():\n",
    "    sum = 1\n",
    "    for i in range(1, 10_000_001):\n",
    "        sum += i  \n",
    "    return sum\n",
    "\n",
    "print('run waste_time once before we decorate it')\n",
    "print(f'{waste_time():,}')\n",
    "\n",
    "# To decorate this function with our timer we can just write:\n",
    "waste_time = timer(waste_time)"
   ]
  },
  {
   "cell_type": "code",
   "execution_count": 83,
   "metadata": {},
   "outputs": [
    {
     "name": "stdout",
     "output_type": "stream",
     "text": [
      "waste_time took 0.6890 seconds to run.\n"
     ]
    },
    {
     "data": {
      "text/plain": [
       "50000005000001"
      ]
     },
     "execution_count": 83,
     "metadata": {},
     "output_type": "execute_result"
    }
   ],
   "source": [
    "waste_time()"
   ]
  },
  {
   "cell_type": "markdown",
   "metadata": {},
   "source": [
    "We see that in order to apply our decorator we have to call\n",
    "```python\n",
    "waste_time = timer(waste_time)\n",
    "```\n",
    "or more generally\n",
    "```python\n",
    "func = decorator(func)\n",
    "```\n",
    "but python also offers a different way of applying a decorator to a function, just add\n",
    "```python \n",
    "@decorator\n",
    "def func():\n",
    "    ...\n",
    "```"
   ]
  },
  {
   "cell_type": "code",
   "execution_count": 84,
   "metadata": {},
   "outputs": [],
   "source": [
    "@timer\n",
    "def waste_time():\n",
    "    sum = 1\n",
    "    for i in range(1, 10_000_001):\n",
    "        sum += i  \n",
    "    return sum"
   ]
  },
  {
   "cell_type": "code",
   "execution_count": 85,
   "metadata": {},
   "outputs": [
    {
     "name": "stdout",
     "output_type": "stream",
     "text": [
      "waste_time took 0.6864 seconds to run.\n"
     ]
    },
    {
     "data": {
      "text/plain": [
       "50000005000001"
      ]
     },
     "execution_count": 85,
     "metadata": {},
     "output_type": "execute_result"
    }
   ],
   "source": [
    "waste_time()"
   ]
  },
  {
   "cell_type": "markdown",
   "metadata": {},
   "source": [
    "```python\n",
    "@decorator\n",
    "def func():\n",
    "    ...\n",
    "```\n",
    "is just [syntactic sugar](https://en.wikipedia.org/wiki/Syntactic_sugar) for \n",
    "```python\n",
    "func = decorator(func)\n",
    "```\n",
    "\n",
    "But so far we have a problem. What if our function takes in parameters? \\\n",
    "In this case we just have to add the \\*args and \\**kwargs to our wrapper parameters and function parameters. This way we ensure that any parameters our function may take get passed along to it.\n",
    "\n",
    "As a basic example, we'll redefine our waste_time function to take in a parameter, n, that determines what number to iterate up to.\n",
    "We also need to modify our timer decorator in order to pass along the argumnent to waste_time in the wrapper."
   ]
  },
  {
   "cell_type": "code",
   "execution_count": 86,
   "metadata": {},
   "outputs": [],
   "source": [
    "def timer(func):\n",
    "    def wrapper(*args, **kwargs):\n",
    "        start = time()\n",
    "        result = func(*args, **kwargs)\n",
    "        end = time()\n",
    "        print(f'{func.__name__} took {end - start:.4f} seconds to run.')\n",
    "        return result\n",
    "    return wrapper"
   ]
  },
  {
   "cell_type": "code",
   "execution_count": 87,
   "metadata": {},
   "outputs": [],
   "source": [
    "@timer\n",
    "def waste_time(n=10_000_000):\n",
    "    sum = 0\n",
    "    for i in range(1, n + 1):\n",
    "        sum += i\n",
    "    return sum"
   ]
  },
  {
   "cell_type": "code",
   "execution_count": 88,
   "metadata": {},
   "outputs": [
    {
     "name": "stdout",
     "output_type": "stream",
     "text": [
      "waste_time took 3.6624 seconds to run.\n"
     ]
    },
    {
     "data": {
      "text/plain": [
       "1250000025000000"
      ]
     },
     "execution_count": 88,
     "metadata": {},
     "output_type": "execute_result"
    }
   ],
   "source": [
    "waste_time(50_000_000)"
   ]
  },
  {
   "cell_type": "code",
   "execution_count": null,
   "metadata": {},
   "outputs": [],
   "source": []
  }
 ],
 "metadata": {
  "kernelspec": {
   "display_name": "data_science",
   "language": "python",
   "name": "data_science"
  },
  "language_info": {
   "codemirror_mode": {
    "name": "ipython",
    "version": 3
   },
   "file_extension": ".py",
   "mimetype": "text/x-python",
   "name": "python",
   "nbconvert_exporter": "python",
   "pygments_lexer": "ipython3",
   "version": "3.7.7"
  }
 },
 "nbformat": 4,
 "nbformat_minor": 4
}
