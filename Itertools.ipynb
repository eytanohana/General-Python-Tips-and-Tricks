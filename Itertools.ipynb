{
 "cells": [
  {
   "cell_type": "markdown",
   "metadata": {},
   "source": [
    "# itertools\n",
    "\n",
    "The [itertools](https://docs.python.org/3.8/library/itertools.html) module, which is part of the python standard library, provides a high level API for defining fast, memory efficient tools in python.\n",
    "\n",
    "Note: This notebook is intended for python 3.8 or above some functions may not work as expected or may not even be defined in earlier versions."
   ]
  },
  {
   "cell_type": "markdown",
   "metadata": {},
   "source": [
    "## infinite iterators\n",
    "\n",
    "Infinite Iterators are just sequences that can go on forever\n",
    "\n",
    "### [count(start=0, step=1)](https://docs.python.org/3.8/library/itertools.html#itertools.count)\n",
    "\n",
    "`count` is an infinte iterator that returns values starting at `start`. \\\n",
    "Optionally we can specify the step size with `step`."
   ]
  },
  {
   "cell_type": "code",
   "execution_count": 29,
   "metadata": {},
   "outputs": [],
   "source": [
    "from itertools import count"
   ]
  },
  {
   "cell_type": "code",
   "execution_count": 30,
   "metadata": {},
   "outputs": [
    {
     "name": "stdout",
     "output_type": "stream",
     "text": [
      "0 1 2 3 4 5 6 7 8 9 10 11 12 13 14 15 16 17 18 19 20 21 22 23 24 25 26 27 28 29 30 31 32 33 34 35 36 37 38 39 40 41 42 43 44 45 46 47 48 49 50 51 52 53 54 55 56 57 58 59 60 61 62 63 64 65 66 67 68 69 70 71 72 73 74 75 76 77 78 79 80 81 82 83 84 85 86 87 88 89 90 91 92 93 94 95 96 97 98 99 100 \n",
      "\n",
      "10 11 12 13 14 15 16 17 18 19 20 21 22 23 24 25 26 27 28 29 30 31 32 33 34 35 36 37 38 39 40 41 42 43 44 45 46 47 48 49 50 51 52 53 54 55 56 57 58 59 60 61 62 63 64 65 66 67 68 69 70 71 72 73 74 75 76 77 78 79 80 81 82 83 84 85 86 87 88 89 90 91 92 93 94 95 96 97 98 99 100 \n",
      "\n",
      "10 20 30 40 50 60 70 80 90 100 "
     ]
    }
   ],
   "source": [
    "# we need a stopping condition in each for\n",
    "# or the code will never finish (its an infinite iterator for a reason)\n",
    "\n",
    "for i in count():\n",
    "    print(i, end=' ')\n",
    "    if i >= 100:\n",
    "        break\n",
    "        \n",
    "print('\\n')\n",
    "\n",
    "for i in count(10):\n",
    "    print(i, end=' ')\n",
    "    if i >= 100:\n",
    "        break\n",
    "\n",
    "print('\\n')\n",
    "\n",
    "for i in count(10, 10):\n",
    "    print(i, end=' ')\n",
    "    if i >= 100:\n",
    "        break"
   ]
  },
  {
   "cell_type": "markdown",
   "metadata": {},
   "source": [
    "Since `count` is an iterator we can also call `next` on it."
   ]
  },
  {
   "cell_type": "code",
   "execution_count": 31,
   "metadata": {},
   "outputs": [
    {
     "name": "stdout",
     "output_type": "stream",
     "text": [
      "0, 5, 10, 15, 20\n"
     ]
    }
   ],
   "source": [
    "count5 = count(step=5)\n",
    "print(next(count5), end=', ')\n",
    "print(next(count5), end=', ')\n",
    "print(next(count5), end=', ')\n",
    "print(next(count5), end=', ')\n",
    "print(next(count5))"
   ]
  },
  {
   "cell_type": "markdown",
   "metadata": {},
   "source": [
    "### [cycle(iterable)](https://docs.python.org/3.8/library/itertools.html#itertools.cycle)\n",
    "\n",
    "Returns an iterator that returns each element in the `iterable`. When the iterable has been \"looped over\" cycle starts from the beginning."
   ]
  },
  {
   "cell_type": "code",
   "execution_count": 32,
   "metadata": {},
   "outputs": [],
   "source": [
    "from itertools import cycle"
   ]
  },
  {
   "cell_type": "code",
   "execution_count": 47,
   "metadata": {},
   "outputs": [
    {
     "name": "stdout",
     "output_type": "stream",
     "text": [
      "1 2 3 1 2 3 1 2 3 1 2 3 1 2 3 1 2 3 1 2 3 1 2 3 1 2 3 1 2 3 1 \n",
      "\n",
      "h e l l o h e l l o h e l l o h e l l o h e l l o h e l l o h "
     ]
    }
   ],
   "source": [
    "for i, elem in enumerate(cycle([1,2,3])):\n",
    "    print(elem, end=' ')\n",
    "    if i >= 30:\n",
    "        break\n",
    "        \n",
    "print('\\n')\n",
    "\n",
    "cycle_hello = cycle('hello')\n",
    "for i, letter in enumerate(cycle_hello):\n",
    "    print(letter, end=' ')\n",
    "    if i >= 30:\n",
    "        break"
   ]
  },
  {
   "cell_type": "markdown",
   "metadata": {},
   "source": [
    "### [repeat(object[,times])](https://docs.python.org/3.8/library/itertools.html#itertools.repeat)\n",
    "\n",
    "Returns an iterator that just yields object every time it's iterated over or until `times` is reached if times is specified."
   ]
  },
  {
   "cell_type": "code",
   "execution_count": 48,
   "metadata": {},
   "outputs": [],
   "source": [
    "from itertools import repeat"
   ]
  },
  {
   "cell_type": "code",
   "execution_count": 57,
   "metadata": {},
   "outputs": [
    {
     "name": "stdout",
     "output_type": "stream",
     "text": [
      "repeat repeat repeat repeat repeat repeat repeat repeat repeat repeat repeat \n",
      "\n",
      "1 1 1 1 1 1 1 1 1 1 "
     ]
    }
   ],
   "source": [
    "for i, rep in enumerate(repeat('repeat')):\n",
    "    print(rep, end=' ')\n",
    "    if i >= 10:\n",
    "        break\n",
    "\n",
    "print('\\n')    \n",
    "    \n",
    "rep10 = repeat(1, 10)\n",
    "for i in rep10:\n",
    "    print(i, end=' ')"
   ]
  },
  {
   "cell_type": "markdown",
   "metadata": {},
   "source": [
    "## Iterators terminating on the shortest input sequence\n",
    "\n",
    "### [accumulate(iterable[, func, *, initial=None])](https://docs.python.org/3.8/library/itertools.html#itertools.accumulate)\n",
    "\n",
    "Returns an iterator that returns the intermediate accumulated values after applying `func` on the elements in the sequence from left to right. \n",
    "\n",
    "`func` must be a function that accepts to parameters. \\\n",
    "`initial` is the first value to be accumulated before the iterable.\n",
    "\n",
    "This function works similarly to `reduce` in functools except `reduce` returns the final accumulated value while `accumulate` returns every intermediate value."
   ]
  },
  {
   "cell_type": "code",
   "execution_count": 61,
   "metadata": {},
   "outputs": [],
   "source": [
    "from itertools import accumulate"
   ]
  },
  {
   "cell_type": "code",
   "execution_count": 65,
   "metadata": {},
   "outputs": [
    {
     "data": {
      "text/plain": [
       "[1, 3, 6, 10, 15]"
      ]
     },
     "execution_count": 65,
     "metadata": {},
     "output_type": "execute_result"
    }
   ],
   "source": [
    "add = lambda x, y: x + y\n",
    "\n",
    "# we can convert an iterator into a list \n",
    "list(accumulate([1,2,3,4,5], add))"
   ]
  },
  {
   "cell_type": "markdown",
   "metadata": {},
   "source": [
    "We get \\[1, 3, 6 ,10, 15\\] because the first value is 1 \\\n",
    "1 + 2 = 3 \\\n",
    "1 + 2 + 3 = 6 \\\n",
    "1 + 2 + 3 + 4 = 10 \\\n",
    "1 + 2 + 3 + 4 + 5 = 15"
   ]
  },
  {
   "cell_type": "code",
   "execution_count": 66,
   "metadata": {},
   "outputs": [
    {
     "name": "stdout",
     "output_type": "stream",
     "text": [
      "h\n",
      "he\n",
      "hel\n",
      "hell\n",
      "hello\n"
     ]
    }
   ],
   "source": [
    "for val in accumulate('hello', add):\n",
    "    print(val)"
   ]
  },
  {
   "cell_type": "code",
   "execution_count": 68,
   "metadata": {},
   "outputs": [
    {
     "data": {
      "text/plain": [
       "[10, 11, 13, 16, 20, 25]"
      ]
     },
     "execution_count": 68,
     "metadata": {},
     "output_type": "execute_result"
    }
   ],
   "source": [
    "list(accumulate([1,2,3,4,5], add, initial=10))"
   ]
  },
  {
   "cell_type": "markdown",
   "metadata": {},
   "source": [
    "### [chain(*iterables)](https://docs.python.org/3.8/library/itertools.html#itertools.chain)\n",
    "\n",
    "Creates an iterator that returns each element in the first iterable. WHen that is done it moves on to the second and third and so on. \n",
    "\n",
    ">Used for treating consecutive sequences as a single sequence. \n"
   ]
  },
  {
   "cell_type": "code",
   "execution_count": 69,
   "metadata": {},
   "outputs": [],
   "source": [
    "from itertools import chain"
   ]
  },
  {
   "cell_type": "code",
   "execution_count": 70,
   "metadata": {},
   "outputs": [
    {
     "name": "stdout",
     "output_type": "stream",
     "text": [
      "h e l l o 1 2 3 4 5 6 7 8 "
     ]
    }
   ],
   "source": [
    "for elem in chain('hello', [1,2,3,4], (5,6,7,8)):\n",
    "    print(elem, end=' ')"
   ]
  },
  {
   "cell_type": "code",
   "execution_count": 73,
   "metadata": {},
   "outputs": [
    {
     "name": "stdout",
     "output_type": "stream",
     "text": [
      "['a', 's', 'd', 'f', 'g', 'h', 'j', 'k', 'l', 'q', 'w', 'e', 'r', 't', 'y', 'u', 'i', 'o', 'p', 'z', 'x', 'c', 'v', 'b', 'n', 'm']\n"
     ]
    }
   ],
   "source": [
    "chain3 = chain('asdfghjkl', 'qwertyuiop', 'zxcvbnm')\n",
    "print(list(chain3))"
   ]
  },
  {
   "cell_type": "code",
   "execution_count": null,
   "metadata": {},
   "outputs": [],
   "source": []
  }
 ],
 "metadata": {
  "kernelspec": {
   "display_name": "Python 3.8",
   "language": "python",
   "name": "python3_8"
  },
  "language_info": {
   "codemirror_mode": {
    "name": "ipython",
    "version": 3
   },
   "file_extension": ".py",
   "mimetype": "text/x-python",
   "name": "python",
   "nbconvert_exporter": "python",
   "pygments_lexer": "ipython3",
   "version": "3.8.2"
  }
 },
 "nbformat": 4,
 "nbformat_minor": 4
}
