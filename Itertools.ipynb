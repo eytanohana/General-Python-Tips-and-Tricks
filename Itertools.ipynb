{
 "cells": [
  {
   "cell_type": "markdown",
   "metadata": {},
   "source": [
    "# itertools\n",
    "\n",
    "The [itertools](https://docs.python.org/3.8/library/itertools.html) module, which is part of the python standard library, provides a high level API for defining fast, memory efficient tools in python.\n",
    "\n",
    "Note: This notebook is intended for python 3.8 or above some functions may not work as expected or may not even be defined in earlier versions."
   ]
  },
  {
   "cell_type": "markdown",
   "metadata": {},
   "source": [
    "## infinite iterators\n",
    "\n",
    "Infinite Iterators are just sequences that can go on forever\n",
    "\n",
    "### [count(start=0, step=1)](https://docs.python.org/3.8/library/itertools.html#itertools.count)\n",
    "\n",
    "`count` is an infinte iterator that returns values starting at `start`. \\\n",
    "Optionally we can specify the step size with `step`."
   ]
  },
  {
   "cell_type": "code",
   "execution_count": 29,
   "metadata": {},
   "outputs": [],
   "source": [
    "from itertools import count"
   ]
  },
  {
   "cell_type": "code",
   "execution_count": 30,
   "metadata": {},
   "outputs": [
    {
     "name": "stdout",
     "output_type": "stream",
     "text": [
      "0 1 2 3 4 5 6 7 8 9 10 11 12 13 14 15 16 17 18 19 20 21 22 23 24 25 26 27 28 29 30 31 32 33 34 35 36 37 38 39 40 41 42 43 44 45 46 47 48 49 50 51 52 53 54 55 56 57 58 59 60 61 62 63 64 65 66 67 68 69 70 71 72 73 74 75 76 77 78 79 80 81 82 83 84 85 86 87 88 89 90 91 92 93 94 95 96 97 98 99 100 \n",
      "\n",
      "10 11 12 13 14 15 16 17 18 19 20 21 22 23 24 25 26 27 28 29 30 31 32 33 34 35 36 37 38 39 40 41 42 43 44 45 46 47 48 49 50 51 52 53 54 55 56 57 58 59 60 61 62 63 64 65 66 67 68 69 70 71 72 73 74 75 76 77 78 79 80 81 82 83 84 85 86 87 88 89 90 91 92 93 94 95 96 97 98 99 100 \n",
      "\n",
      "10 20 30 40 50 60 70 80 90 100 "
     ]
    }
   ],
   "source": [
    "# we need a stopping condition in each for\n",
    "# or the code will never finish (its an infinite iterator for a reason)\n",
    "\n",
    "for i in count():\n",
    "    print(i, end=' ')\n",
    "    if i >= 100:\n",
    "        break\n",
    "        \n",
    "print('\\n')\n",
    "\n",
    "for i in count(10):\n",
    "    print(i, end=' ')\n",
    "    if i >= 100:\n",
    "        break\n",
    "\n",
    "print('\\n')\n",
    "\n",
    "for i in count(10, 10):\n",
    "    print(i, end=' ')\n",
    "    if i >= 100:\n",
    "        break"
   ]
  },
  {
   "cell_type": "markdown",
   "metadata": {},
   "source": [
    "Since `count` is an iterator we can also call `next` on it."
   ]
  },
  {
   "cell_type": "code",
   "execution_count": 31,
   "metadata": {},
   "outputs": [
    {
     "name": "stdout",
     "output_type": "stream",
     "text": [
      "0, 5, 10, 15, 20\n"
     ]
    }
   ],
   "source": [
    "count5 = count(step=5)\n",
    "print(next(count5), end=', ')\n",
    "print(next(count5), end=', ')\n",
    "print(next(count5), end=', ')\n",
    "print(next(count5), end=', ')\n",
    "print(next(count5))"
   ]
  },
  {
   "cell_type": "markdown",
   "metadata": {},
   "source": [
    "### [cycle(iterable)](https://docs.python.org/3.8/library/itertools.html#itertools.cycle)\n",
    "\n",
    "Returns an iterator that returns each element in the `iterable`. When the iterable has been \"looped over\" cycle starts from the beginning."
   ]
  },
  {
   "cell_type": "code",
   "execution_count": 32,
   "metadata": {},
   "outputs": [],
   "source": [
    "from itertools import cycle"
   ]
  },
  {
   "cell_type": "code",
   "execution_count": 47,
   "metadata": {},
   "outputs": [
    {
     "name": "stdout",
     "output_type": "stream",
     "text": [
      "1 2 3 1 2 3 1 2 3 1 2 3 1 2 3 1 2 3 1 2 3 1 2 3 1 2 3 1 2 3 1 \n",
      "\n",
      "h e l l o h e l l o h e l l o h e l l o h e l l o h e l l o h "
     ]
    }
   ],
   "source": [
    "for i, elem in enumerate(cycle([1,2,3])):\n",
    "    print(elem, end=' ')\n",
    "    if i >= 30:\n",
    "        break\n",
    "        \n",
    "print('\\n')\n",
    "\n",
    "cycle_hello = cycle('hello')\n",
    "for i, letter in enumerate(cycle_hello):\n",
    "    print(letter, end=' ')\n",
    "    if i >= 30:\n",
    "        break"
   ]
  },
  {
   "cell_type": "markdown",
   "metadata": {},
   "source": [
    "### [repeat(object[,times])](https://docs.python.org/3.8/library/itertools.html#itertools.repeat)\n",
    "\n",
    "Returns an iterator that just yields object every time it's iterated over or until `times` is reached if times is specified."
   ]
  },
  {
   "cell_type": "code",
   "execution_count": 48,
   "metadata": {},
   "outputs": [],
   "source": [
    "from itertools import repeat"
   ]
  },
  {
   "cell_type": "code",
   "execution_count": null,
   "metadata": {},
   "outputs": [],
   "source": []
  },
  {
   "cell_type": "code",
   "execution_count": null,
   "metadata": {},
   "outputs": [],
   "source": []
  }
 ],
 "metadata": {
  "kernelspec": {
   "display_name": "Python 3.8",
   "language": "python",
   "name": "python3_8"
  },
  "language_info": {
   "codemirror_mode": {
    "name": "ipython",
    "version": 3
   },
   "file_extension": ".py",
   "mimetype": "text/x-python",
   "name": "python",
   "nbconvert_exporter": "python",
   "pygments_lexer": "ipython3",
   "version": "3.8.2"
  }
 },
 "nbformat": 4,
 "nbformat_minor": 4
}
