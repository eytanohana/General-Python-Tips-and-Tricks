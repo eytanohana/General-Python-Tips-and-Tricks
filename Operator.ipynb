{
 "cells": [
  {
   "cell_type": "markdown",
   "metadata": {},
   "source": [
    "# operator\n",
    "\n",
    "The [operator module](https://docs.python.org/3.8/library/operator.html) provides functional implementations of many of the classic infix operators like +, -, *, ÷ and more. \n",
    "\n",
    "This helps in situations like when reducing a list. Instead of writing:\n",
    "```python\n",
    "functools.reduce(lambda x, y: x + y, [1,2,3,4,5])\n",
    "```\n",
    "You can use:\n",
    "```python\n",
    "functools.reduce(operator.add, [1,2,3,4,5])\n",
    "```\n",
    "which looks much cleaner (and those who think otherwise are straight up wrong).\n",
    "\n",
    ">The functions fall into categories that perform object comparisons, logical operations, mathematical operations and sequence operations."
   ]
  },
  {
   "cell_type": "markdown",
   "metadata": {},
   "source": [
    "# Comparison Operators"
   ]
  },
  {
   "cell_type": "code",
   "execution_count": 1,
   "metadata": {},
   "outputs": [],
   "source": [
    "#                    <   <=  ==  >   >= \n",
    "from operator import lt, le, eq, gt, ge\n",
    "from functools import reduce"
   ]
  },
  {
   "cell_type": "code",
   "execution_count": 2,
   "metadata": {},
   "outputs": [],
   "source": [
    "# instead of needing to define lambdas for\n",
    "# the simple comparison operators in whatever application you may need.\n",
    "less = lambda x, y: x < y\n",
    "less_eq = lambda x, y: x <= y\n",
    "equal = lambda x, y: x == y\n",
    "greater = lambda x, y: x > y\n",
    "greater_eq = lambda x, y: x >= y"
   ]
  },
  {
   "cell_type": "code",
   "execution_count": 3,
   "metadata": {},
   "outputs": [
    {
     "name": "stdout",
     "output_type": "stream",
     "text": [
      "6 < 6: False\n",
      "6 <= 6: True\n",
      "6 == 6: True\n",
      "6 > 6: False\n",
      "6 >= 6: True\n"
     ]
    }
   ],
   "source": [
    "print(f'6 < 6: {less(6, 6)}')\n",
    "print(f'6 <= 6: {less_eq(6, 6)}')\n",
    "print(f'6 == 6: {equal(6, 6)}')\n",
    "print(f'6 > 6: {greater(6, 6)}')\n",
    "print(f'6 >= 6: {greater_eq(6, 6)}')"
   ]
  },
  {
   "cell_type": "code",
   "execution_count": 4,
   "metadata": {},
   "outputs": [
    {
     "name": "stdout",
     "output_type": "stream",
     "text": [
      "6 < 6: False\n",
      "6 <= 6: True\n",
      "6 == 6: True\n",
      "6 > 6: False\n",
      "6 >= 6: True\n"
     ]
    }
   ],
   "source": [
    "# just use the operators they're already available\n",
    "print(f'6 < 6: {lt(6, 6)}')\n",
    "print(f'6 <= 6: {le(6, 6)}')\n",
    "print(f'6 == 6: {eq(6, 6)}')\n",
    "print(f'6 > 6: {gt(6, 6)}')\n",
    "print(f'6 >= 6: {ge(6, 6)}')"
   ]
  },
  {
   "cell_type": "markdown",
   "metadata": {},
   "source": [
    "# Logical Operators"
   ]
  },
  {
   "cell_type": "code",
   "execution_count": null,
   "metadata": {},
   "outputs": [],
   "source": []
  }
 ],
 "metadata": {
  "kernelspec": {
   "display_name": "Python 3.8",
   "language": "python",
   "name": "python3_8"
  },
  "language_info": {
   "codemirror_mode": {
    "name": "ipython",
    "version": 3
   },
   "file_extension": ".py",
   "mimetype": "text/x-python",
   "name": "python",
   "nbconvert_exporter": "python",
   "pygments_lexer": "ipython3",
   "version": "3.8.2"
  }
 },
 "nbformat": 4,
 "nbformat_minor": 4
}
