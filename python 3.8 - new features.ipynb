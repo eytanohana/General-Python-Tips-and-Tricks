{
 "cells": [
  {
   "cell_type": "markdown",
   "metadata": {},
   "source": [
    "# <center>New features in python 3.8</center>"
   ]
  },
  {
   "cell_type": "code",
   "execution_count": 2,
   "metadata": {},
   "outputs": [],
   "source": [
    "import sys \n",
    "\n",
    "assert sys.version_info.major == 3 and sys.version_info.minor == 8"
   ]
  },
  {
   "cell_type": "markdown",
   "metadata": {},
   "source": [
    "## [The walrus operator :=](https://www.python.org/dev/peps/pep-0572/)\n",
    "\n",
    "<center> <font color=\"#eb4034\">This is a walrus</font> </center>\n",
    "<img src=\"https://www.wwf.org.uk/sites/default/files/styles/hero_s/public/2019-04/Cape%20Sedtse-Kamen%20%28C%29%20Anatoly%20Kruchnev%20%281%29.JPG?h=7685ba0d&itok=f4DQojay\" alt=\"walrus\" width=20%/>\n",
    "\n",
    "The walrus operator (w.o.) introduces what's known as assignment expressions into python. In a nutshell, the w.o. allows us to assign any type of expression to a variable and return the value of the expression simultaneously.\n",
    "\n",
    "We use the w.o. by writing `(name := expression)` (note the parenthesis around the assignment, it's required)\n",
    "\n",
    "This is useful in situations where recomputing certain expressions is wasteful. We can just assign the expression to a variable and reuse the variable. Some examples should clear this up."
   ]
  },
  {
   "cell_type": "code",
   "execution_count": 15,
   "metadata": {},
   "outputs": [
    {
     "data": {
      "text/plain": [
       "10"
      ]
     },
     "execution_count": 15,
     "metadata": {},
     "output_type": "execute_result"
    }
   ],
   "source": [
    "# We said the w.o. basically assigns a value\n",
    "# to a variable and returns it.\n",
    "(a := 10)"
   ]
  },
  {
   "cell_type": "markdown",
   "metadata": {},
   "source": [
    "If you noticed in the assert above, we had to call `sys.version_info` twice in order to make sure you were using the right version of python. It looks and feels just a little clunky. We can do something like:\n",
    "```python\n",
    "version = sys.version_info\n",
    "assert version.major == 3 and version.minor == 8\n",
    "```\n",
    "But now we need to create a whole new variable on a separate line of code just to use it in the assert. Using the walrus operator, we can condense this back to just one line."
   ]
  },
  {
   "cell_type": "code",
   "execution_count": 7,
   "metadata": {},
   "outputs": [],
   "source": [
    "# we assign version equal to sys.version_info \n",
    "# then check if its major value is 3 and minor is 8\n",
    "assert (version := sys.version_info).major == 3 and version.minor == 8"
   ]
  },
  {
   "cell_type": "code",
   "execution_count": 10,
   "metadata": {},
   "outputs": [
    {
     "name": "stdout",
     "output_type": "stream",
     "text": [
      "Enter input:hello\n",
      "hello \n",
      "\n",
      "Enter input:goodbye\n",
      "goodbye \n",
      "\n",
      "Enter input:AAAHHH\n",
      "AAAHHH \n",
      "\n",
      "Enter input:done\n"
     ]
    }
   ],
   "source": [
    "# Let's say we want to continuosly grap user input \n",
    "# until they type something like \"done\". We would normally do this by:\n",
    "user_input = input(\"Enter input:\")\n",
    "while user_input != 'done':\n",
    "    print(user_input, '\\n')\n",
    "    user_input = input(\"Enter input:\")"
   ]
  },
  {
   "cell_type": "markdown",
   "metadata": {},
   "source": [
    "The above code requires us to need to initially assign user_input before the while and have to continually reassign it inside."
   ]
  },
  {
   "cell_type": "code",
   "execution_count": 11,
   "metadata": {},
   "outputs": [
    {
     "name": "stdout",
     "output_type": "stream",
     "text": [
      "Enter input:hello\n",
      "hello\n",
      "Enter input:goodbye\n",
      "goodbye\n",
      "Enter input:AHHH\n",
      "AHHH\n",
      "Enter input:done\n"
     ]
    }
   ],
   "source": [
    "while (user_input := input('Enter input:')) != 'done':\n",
    "    print(user_input)"
   ]
  },
  {
   "cell_type": "markdown",
   "metadata": {},
   "source": [
    "We see the second one looks a lot cleaner. Another example is in reading a file and finding all words that match."
   ]
  },
  {
   "cell_type": "code",
   "execution_count": 16,
   "metadata": {},
   "outputs": [],
   "source": [
    "import re"
   ]
  },
  {
   "cell_type": "code",
   "execution_count": 54,
   "metadata": {
    "scrolled": false
   },
   "outputs": [
    {
     "name": "stdout",
     "output_type": "stream",
     "text": [
      "60 --> 65\n",
      "10 --> 15\n",
      "31 --> 36\n",
      "11 --> 16\n",
      "76 --> 81\n",
      "66 --> 71\n",
      "105 --> 110\n",
      "122 --> 127\n",
      "30 --> 35\n",
      "40 --> 45\n",
      "228 --> 233\n",
      "87 --> 92\n",
      "99 --> 104\n",
      "33 --> 38\n"
     ]
    }
   ],
   "source": [
    "# We can change this\n",
    "with open('static files/Genesis.txt') as f:\n",
    "    line = f.readline()\n",
    "    \n",
    "    while line != '':\n",
    "        match = re.search('earth', line)\n",
    "        if match:\n",
    "            print(match.start(), '-->', match.end())\n",
    "        \n",
    "        line = f.readline()"
   ]
  },
  {
   "cell_type": "code",
   "execution_count": 56,
   "metadata": {},
   "outputs": [
    {
     "name": "stdout",
     "output_type": "stream",
     "text": [
      "60 --> 65\n",
      "10 --> 15\n",
      "31 --> 36\n",
      "11 --> 16\n",
      "76 --> 81\n",
      "66 --> 71\n",
      "105 --> 110\n",
      "122 --> 127\n",
      "30 --> 35\n",
      "40 --> 45\n",
      "228 --> 233\n",
      "87 --> 92\n",
      "99 --> 104\n",
      "33 --> 38\n"
     ]
    }
   ],
   "source": [
    "# to this\n",
    "with open('static files/Genesis.txt') as f:\n",
    "    \n",
    "    while (line := f.readline()) != '':\n",
    "        if (match := re.search('earth', line)):\n",
    "            print(match.start(), '-->', match.end())"
   ]
  },
  {
   "cell_type": "markdown",
   "metadata": {},
   "source": [
    "We see the second example is a lot more concise and gives the same output."
   ]
  },
  {
   "cell_type": "markdown",
   "metadata": {},
   "source": [
    "## [Positional-Only Parameters](https://www.python.org/dev/peps/pep-0570/)\n",
    "\n",
    "Positional-only parameters allow developers to create functions that don't let the user specify a parameter name when calling a function. This can be useful when the names of the parameters don't have any actual meaning like in `min` or `max` where the arguments are effectively `arg1`, `arg2`, `arg3`, ...\n",
    "\n",
    "For example if you called a function from some library using `func(name='Eytan', fav_color='green')` and later on the developers released an update where they changed the names of the parameters, your code would break.\n",
    "\n",
    "The syntax for positional-only arguments is\n",
    "```python\n",
    "def func(position, /, normal, *, kwd_only):\n",
    "    do something\n",
    "```\n",
    "\n",
    "Everything before the / is a positional-only parameter and everything after the * is a keyword-only parameter. Any parameter in between can be called as a position or with a keyword."
   ]
  },
  {
   "cell_type": "code",
   "execution_count": null,
   "metadata": {},
   "outputs": [],
   "source": []
  }
 ],
 "metadata": {
  "kernelspec": {
   "display_name": "Python 3.8",
   "language": "python",
   "name": "python3_8"
  },
  "language_info": {
   "codemirror_mode": {
    "name": "ipython",
    "version": 3
   },
   "file_extension": ".py",
   "mimetype": "text/x-python",
   "name": "python",
   "nbconvert_exporter": "python",
   "pygments_lexer": "ipython3",
   "version": "3.8.2"
  }
 },
 "nbformat": 4,
 "nbformat_minor": 4
}
