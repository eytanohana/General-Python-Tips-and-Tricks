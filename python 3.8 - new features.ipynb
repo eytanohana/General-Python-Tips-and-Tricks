{
 "cells": [
  {
   "cell_type": "markdown",
   "metadata": {},
   "source": [
    "# <center>New features in python 3.8</center>"
   ]
  },
  {
   "cell_type": "code",
   "execution_count": 2,
   "metadata": {},
   "outputs": [],
   "source": [
    "import sys \n",
    "\n",
    "assert sys.version_info.major == 3 and sys.version_info.minor == 8"
   ]
  },
  {
   "cell_type": "markdown",
   "metadata": {},
   "source": [
    "## The walrus operator := \n",
    "\n",
    "<img title=\"This is a walrus\" src=\"https://www.wwf.org.uk/sites/default/files/styles/hero_s/public/2019-04/Cape%20Sedtse-Kamen%20%28C%29%20Anatoly%20Kruchnev%20%281%29.JPG?h=7685ba0d&itok=f4DQojay\" alt=\"walrus\" width=20%/>\n",
    "\n",
    "The walrus operator introduces what's known as [assignment expressions](https://www.python.org/dev/peps/pep-0572/) into python. In a nutshell, the walrus operator allows us to assign any type of expression to a variable and return the value of the expression simultaneously.\n",
    "\n",
    "We use the walrus operator by writing `name := expression`\n",
    "\n",
    "This is useful in situations where recomputing certain expressions is wasteful. We can just assign the expression to a variable and reuse the variable. Some examples should clear this up.\n",
    "\n",
    "***\n",
    "\n",
    "If you noticed in the assert above, we had to call `sys.version_info` twice in order to make sure you were using the right version of python. It looks and feels just a little clunky. We can do something like:\n",
    "```python\n",
    "version = sys.version_info\n",
    "assert version.major == 3 and version.minor == 8\n",
    "```\n",
    "But now we need to create a whole new variable on a separate line of code just to use it in the assert. Using the walrus operator, we can condense this back to just one line."
   ]
  },
  {
   "cell_type": "code",
   "execution_count": null,
   "metadata": {},
   "outputs": [],
   "source": []
  }
 ],
 "metadata": {
  "kernelspec": {
   "display_name": "Python 3.8",
   "language": "python",
   "name": "python3_8"
  },
  "language_info": {
   "codemirror_mode": {
    "name": "ipython",
    "version": 3
   },
   "file_extension": ".py",
   "mimetype": "text/x-python",
   "name": "python",
   "nbconvert_exporter": "python",
   "pygments_lexer": "ipython3",
   "version": "3.8.2"
  }
 },
 "nbformat": 4,
 "nbformat_minor": 4
}
