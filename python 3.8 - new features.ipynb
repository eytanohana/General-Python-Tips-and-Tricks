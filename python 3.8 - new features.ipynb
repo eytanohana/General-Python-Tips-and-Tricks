{
 "cells": [
  {
   "cell_type": "markdown",
   "metadata": {},
   "source": [
    "# <center>New features in python 3.8</center>"
   ]
  },
  {
   "cell_type": "code",
   "execution_count": 2,
   "metadata": {},
   "outputs": [],
   "source": [
    "import sys \n",
    "\n",
    "assert sys.version_info.major == 3 and sys.version_info.minor == 8"
   ]
  },
  {
   "cell_type": "markdown",
   "metadata": {},
   "source": [
    "## [The walrus operator :=](https://www.python.org/dev/peps/pep-0572/)\n",
    "\n",
    "<center> <font color=\"#eb4034\">This is a walrus</font> </center>\n",
    "<img src=\"https://www.wwf.org.uk/sites/default/files/styles/hero_s/public/2019-04/Cape%20Sedtse-Kamen%20%28C%29%20Anatoly%20Kruchnev%20%281%29.JPG?h=7685ba0d&itok=f4DQojay\" alt=\"walrus\" width=20%/>\n",
    "\n",
    "The walrus operator (w.o.) introduces what's known as assignment expressions into python. In a nutshell, the w.o. allows us to assign any type of expression to a variable and return the value of the expression simultaneously.\n",
    "\n",
    "We use the w.o. by writing `(name := expression)` (note the parenthesis around the assignment, it's required)\n",
    "\n",
    "This is useful in situations where recomputing certain expressions is wasteful. We can just assign the expression to a variable and reuse the variable. Some examples should clear this up."
   ]
  },
  {
   "cell_type": "code",
   "execution_count": 15,
   "metadata": {},
   "outputs": [
    {
     "data": {
      "text/plain": [
       "10"
      ]
     },
     "execution_count": 15,
     "metadata": {},
     "output_type": "execute_result"
    }
   ],
   "source": [
    "# We said the w.o. basically assigns a value\n",
    "# to a variable and returns it.\n",
    "(a := 10)"
   ]
  },
  {
   "cell_type": "markdown",
   "metadata": {},
   "source": [
    "If you noticed in the assert above, we had to call `sys.version_info` twice in order to make sure you were using the right version of python. It looks and feels just a little clunky. We can do something like:\n",
    "```python\n",
    "version = sys.version_info\n",
    "assert version.major == 3 and version.minor == 8\n",
    "```\n",
    "But now we need to create a whole new variable on a separate line of code just to use it in the assert. Using the walrus operator, we can condense this back to just one line."
   ]
  },
  {
   "cell_type": "code",
   "execution_count": 7,
   "metadata": {},
   "outputs": [],
   "source": [
    "# we assign version equal to sys.version_info \n",
    "# then check if its major value is 3 and minor is 8\n",
    "assert (version := sys.version_info).major == 3 and version.minor == 8"
   ]
  },
  {
   "cell_type": "code",
   "execution_count": 10,
   "metadata": {},
   "outputs": [
    {
     "name": "stdout",
     "output_type": "stream",
     "text": [
      "Enter input:hello\n",
      "hello \n",
      "\n",
      "Enter input:goodbye\n",
      "goodbye \n",
      "\n",
      "Enter input:AAAHHH\n",
      "AAAHHH \n",
      "\n",
      "Enter input:done\n"
     ]
    }
   ],
   "source": [
    "# Let's say we want to continuosly grap user input \n",
    "# until they type something like \"done\". We would normally do this by:\n",
    "user_input = input(\"Enter input:\")\n",
    "while user_input != 'done':\n",
    "    print(user_input, '\\n')\n",
    "    user_input = input(\"Enter input:\")"
   ]
  },
  {
   "cell_type": "markdown",
   "metadata": {},
   "source": [
    "The above code requires us to need to initially assign user_input before the while and have to continually reassign it inside."
   ]
  },
  {
   "cell_type": "code",
   "execution_count": 11,
   "metadata": {},
   "outputs": [
    {
     "name": "stdout",
     "output_type": "stream",
     "text": [
      "Enter input:hello\n",
      "hello\n",
      "Enter input:goodbye\n",
      "goodbye\n",
      "Enter input:AHHH\n",
      "AHHH\n",
      "Enter input:done\n"
     ]
    }
   ],
   "source": [
    "while (user_input := input('Enter input:')) != 'done':\n",
    "    print(user_input)"
   ]
  },
  {
   "cell_type": "markdown",
   "metadata": {},
   "source": [
    "We see the second one looks a lot cleaner. Another example is in reading a file and finding all words that match."
   ]
  },
  {
   "cell_type": "code",
   "execution_count": 16,
   "metadata": {},
   "outputs": [],
   "source": [
    "import re"
   ]
  },
  {
   "cell_type": "code",
   "execution_count": 54,
   "metadata": {
    "scrolled": false
   },
   "outputs": [
    {
     "name": "stdout",
     "output_type": "stream",
     "text": [
      "60 --> 65\n",
      "10 --> 15\n",
      "31 --> 36\n",
      "11 --> 16\n",
      "76 --> 81\n",
      "66 --> 71\n",
      "105 --> 110\n",
      "122 --> 127\n",
      "30 --> 35\n",
      "40 --> 45\n",
      "228 --> 233\n",
      "87 --> 92\n",
      "99 --> 104\n",
      "33 --> 38\n"
     ]
    }
   ],
   "source": [
    "# We can change this\n",
    "with open('static files/Genesis.txt') as f:\n",
    "    line = f.readline()\n",
    "    \n",
    "    while line != '':\n",
    "        match = re.search('earth', line)\n",
    "        if match:\n",
    "            print(match.start(), '-->', match.end())\n",
    "        \n",
    "        line = f.readline()"
   ]
  },
  {
   "cell_type": "code",
   "execution_count": 56,
   "metadata": {},
   "outputs": [
    {
     "name": "stdout",
     "output_type": "stream",
     "text": [
      "60 --> 65\n",
      "10 --> 15\n",
      "31 --> 36\n",
      "11 --> 16\n",
      "76 --> 81\n",
      "66 --> 71\n",
      "105 --> 110\n",
      "122 --> 127\n",
      "30 --> 35\n",
      "40 --> 45\n",
      "228 --> 233\n",
      "87 --> 92\n",
      "99 --> 104\n",
      "33 --> 38\n"
     ]
    }
   ],
   "source": [
    "# to this\n",
    "with open('static files/Genesis.txt') as f:\n",
    "    \n",
    "    while (line := f.readline()) != '':\n",
    "        if (match := re.search('earth', line)):\n",
    "            print(match.start(), '-->', match.end())"
   ]
  },
  {
   "cell_type": "markdown",
   "metadata": {},
   "source": [
    "We see the second example is a lot more concise and gives the same output."
   ]
  },
  {
   "cell_type": "markdown",
   "metadata": {},
   "source": [
    "## [Positional-Only Parameters](https://www.python.org/dev/peps/pep-0570/)\n",
    "\n",
    "Positional-only parameters allow developers to create functions that don't let the user specify a parameter name when calling a function. This can be useful when the names of the parameters don't have any actual meaning like in `min` or `max` where the arguments are effectively `arg1`, `arg2`, `arg3`, ...\n",
    "\n",
    "For example if you called a function from some library using `func(name='Eytan', fav_color='green')` and later on the developers released an update where they changed the names of the parameters, your code would break.\n",
    "\n",
    "The syntax for positional-only arguments is\n",
    "```python\n",
    "def func(pos, /, normal, *, kwd_only):\n",
    "    do something\n",
    "```\n",
    "\n",
    "Everything before the / is a positional-only parameter and everything after the * is a keyword-only parameter. Any parameter in between can be called as a position or with a keyword.\n",
    "\n",
    ">The following would apply:\n",
    "1. All parameters left of the / are treated as positional-only.\n",
    "1. If / is not specified in the function definition, that function does not accept any positional-only arguments.\n",
    "1. The logic around optional values for positional-only parameters remains the same as for positional-or-keyword parameters.\n",
    "1. Once a positional-only parameter is specified with a default, the following positional-only and positional-or-keyword parameters need to have defaults as well.\n",
    "1. Positional-only parameters which do not have default values are required positional-only parameters.\n",
    ">\n",
    ">Therefore the following would be valid function definitions:\n",
    "```python\n",
    "def name(p1, p2, /, p_or_kw, *, kw):\n",
    "def name(p1, p2=None, /, p_or_kw=None, *, kw):\n",
    "def name(p1, p2=None, /, *, kw):\n",
    "def name(p1, p2=None, /):\n",
    "def name(p1, p2, /, p_or_kw):\n",
    "def name(p1, p2, /):\n",
    "```"
   ]
  },
  {
   "cell_type": "code",
   "execution_count": 85,
   "metadata": {},
   "outputs": [],
   "source": [
    "# a normal function\n",
    "def func(p1, p2):\n",
    "    pass"
   ]
  },
  {
   "cell_type": "code",
   "execution_count": 86,
   "metadata": {},
   "outputs": [],
   "source": [
    "# we can call the function any way we want\n",
    "func('hello', 'goodbye')\n",
    "func(p1='hello', p2='goodbye')\n",
    "func('hello', p2='goodbye')"
   ]
  },
  {
   "cell_type": "code",
   "execution_count": 87,
   "metadata": {},
   "outputs": [],
   "source": [
    "def func(p1, p2, /):\n",
    "    pass"
   ]
  },
  {
   "cell_type": "code",
   "execution_count": 88,
   "metadata": {},
   "outputs": [
    {
     "ename": "TypeError",
     "evalue": "func() got some positional-only arguments passed as keyword arguments: 'p2'",
     "output_type": "error",
     "traceback": [
      "\u001b[0;31m---------------------------------------------------------------------------\u001b[0m",
      "\u001b[0;31mTypeError\u001b[0m                                 Traceback (most recent call last)",
      "\u001b[0;32m<ipython-input-88-f9dedf8009cf>\u001b[0m in \u001b[0;36m<module>\u001b[0;34m\u001b[0m\n\u001b[1;32m      1\u001b[0m \u001b[0mfunc\u001b[0m\u001b[0;34m(\u001b[0m\u001b[0;34m'a'\u001b[0m\u001b[0;34m,\u001b[0m \u001b[0;34m'b'\u001b[0m\u001b[0;34m)\u001b[0m\u001b[0;34m\u001b[0m\u001b[0;34m\u001b[0m\u001b[0m\n\u001b[1;32m      2\u001b[0m \u001b[0;31m# we get an error when we try to use a param as a keyword.\u001b[0m\u001b[0;34m\u001b[0m\u001b[0;34m\u001b[0m\u001b[0;34m\u001b[0m\u001b[0m\n\u001b[0;32m----> 3\u001b[0;31m \u001b[0mfunc\u001b[0m\u001b[0;34m(\u001b[0m\u001b[0;34m'a'\u001b[0m\u001b[0;34m,\u001b[0m \u001b[0mp2\u001b[0m\u001b[0;34m=\u001b[0m\u001b[0;34m'b'\u001b[0m\u001b[0;34m)\u001b[0m\u001b[0;34m\u001b[0m\u001b[0;34m\u001b[0m\u001b[0m\n\u001b[0m",
      "\u001b[0;31mTypeError\u001b[0m: func() got some positional-only arguments passed as keyword arguments: 'p2'"
     ]
    }
   ],
   "source": [
    "func('a', 'b')\n",
    "# we get an error when we try to use a param as a keyword.\n",
    "func('a', p2='b')"
   ]
  },
  {
   "cell_type": "code",
   "execution_count": 92,
   "metadata": {},
   "outputs": [],
   "source": [
    "def func(p1, p2, /, p_or_kw, *, kw1, kw2):\n",
    "    pass"
   ]
  },
  {
   "cell_type": "code",
   "execution_count": 96,
   "metadata": {},
   "outputs": [
    {
     "ename": "TypeError",
     "evalue": "func() takes 3 positional arguments but 5 were given",
     "output_type": "error",
     "traceback": [
      "\u001b[0;31m---------------------------------------------------------------------------\u001b[0m",
      "\u001b[0;31mTypeError\u001b[0m                                 Traceback (most recent call last)",
      "\u001b[0;32m<ipython-input-96-b459d81fa531>\u001b[0m in \u001b[0;36m<module>\u001b[0;34m\u001b[0m\n\u001b[1;32m      2\u001b[0m \u001b[0mfunc\u001b[0m\u001b[0;34m(\u001b[0m\u001b[0;36m1\u001b[0m\u001b[0;34m,\u001b[0m \u001b[0;36m2\u001b[0m\u001b[0;34m,\u001b[0m \u001b[0mp_or_kw\u001b[0m\u001b[0;34m=\u001b[0m\u001b[0;36m3\u001b[0m\u001b[0;34m,\u001b[0m \u001b[0mkw1\u001b[0m\u001b[0;34m=\u001b[0m\u001b[0;36m4\u001b[0m\u001b[0;34m,\u001b[0m \u001b[0mkw2\u001b[0m\u001b[0;34m=\u001b[0m\u001b[0;36m5\u001b[0m\u001b[0;34m)\u001b[0m\u001b[0;34m\u001b[0m\u001b[0;34m\u001b[0m\u001b[0m\n\u001b[1;32m      3\u001b[0m \u001b[0;34m\u001b[0m\u001b[0m\n\u001b[0;32m----> 4\u001b[0;31m \u001b[0mfunc\u001b[0m\u001b[0;34m(\u001b[0m\u001b[0;36m1\u001b[0m\u001b[0;34m,\u001b[0m \u001b[0;36m2\u001b[0m\u001b[0;34m,\u001b[0m \u001b[0;36m3\u001b[0m\u001b[0;34m,\u001b[0m \u001b[0;36m4\u001b[0m\u001b[0;34m,\u001b[0m \u001b[0;36m5\u001b[0m\u001b[0;34m)\u001b[0m\u001b[0;34m\u001b[0m\u001b[0;34m\u001b[0m\u001b[0m\n\u001b[0m",
      "\u001b[0;31mTypeError\u001b[0m: func() takes 3 positional arguments but 5 were given"
     ]
    }
   ],
   "source": [
    "func(1, 2, 3, kw1=4, kw2=5)\n",
    "func(1, 2, p_or_kw=3, kw1=4, kw2=5)\n",
    "\n",
    "func(1, 2, 3, 4, 5)"
   ]
  },
  {
   "cell_type": "markdown",
   "metadata": {},
   "source": [
    "## f-strings and debugging\n",
    "\n",
    "When debugging code by printing variables and their values. Instead of having to do `print(f'variable = {variable}')`, you can just do `print(f'{variable=}')` and it will print the variable name = ..."
   ]
  },
  {
   "cell_type": "code",
   "execution_count": 108,
   "metadata": {},
   "outputs": [
    {
     "name": "stdout",
     "output_type": "stream",
     "text": [
      "var = 3.14159265358\n",
      "var=3.14159265358\n",
      "var = 3.14159265358\n",
      "var = 3.14\n"
     ]
    }
   ],
   "source": [
    "var = 3.14159265358\n",
    "# instead of this\n",
    "print(f'var = {var}')\n",
    "\n",
    "# you can do these\n",
    "print(f'{var=}')\n",
    "# you can also add spacing\n",
    "print(f'{var = }')\n",
    "# and formatting\n",
    "print(f'{var = :.2f}')"
   ]
  },
  {
   "cell_type": "markdown",
   "metadata": {},
   "source": [
    "It's a neat little trick that's sure to save you some minor annoyance."
   ]
  },
  {
   "cell_type": "markdown",
   "metadata": {},
   "source": [
    "## continue allowed in finally\n",
    "\n",
    "The `continue` statement which immediately jumps to the next iteration in a loop is now allowed in `finally` blocks. "
   ]
  },
  {
   "cell_type": "code",
   "execution_count": 180,
   "metadata": {},
   "outputs": [
    {
     "name": "stdout",
     "output_type": "stream",
     "text": [
      "error in iteration 0\n",
      "error in iteration 1\n",
      "error in iteration 2\n",
      "error in iteration 3\n",
      "error in iteration 4\n"
     ]
    }
   ],
   "source": [
    "for i in range(5):\n",
    "    try:\n",
    "        print('iteration ' + i)\n",
    "    except:\n",
    "        print(f'error in iteration {i}')\n",
    "    finally:\n",
    "        continue\n",
    "    \n",
    "    print('more code to do')"
   ]
  },
  {
   "cell_type": "markdown",
   "metadata": {},
   "source": [
    "I'm not sure what specific situation yu would need this in, but it's there."
   ]
  },
  {
   "cell_type": "code",
   "execution_count": null,
   "metadata": {},
   "outputs": [],
   "source": []
  }
 ],
 "metadata": {
  "kernelspec": {
   "display_name": "Python 3.8",
   "language": "python",
   "name": "python3_8"
  },
  "language_info": {
   "codemirror_mode": {
    "name": "ipython",
    "version": 3
   },
   "file_extension": ".py",
   "mimetype": "text/x-python",
   "name": "python",
   "nbconvert_exporter": "python",
   "pygments_lexer": "ipython3",
   "version": "3.8.2"
  }
 },
 "nbformat": 4,
 "nbformat_minor": 4
}
