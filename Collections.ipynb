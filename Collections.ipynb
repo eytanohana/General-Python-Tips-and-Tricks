{
 "cells": [
  {
   "cell_type": "markdown",
   "metadata": {},
   "source": [
    "# The collections module\n",
    "\n",
    "> [This module](https://docs.python.org/3.8/library/collections.html) implements specialized container datatypes providing alternatives to Python’s general purpose built-in containers, dict, list, set, and tuple."
   ]
  },
  {
   "cell_type": "markdown",
   "metadata": {},
   "source": [
    "# namedtuple(typename, field_names, *, rename=False, defaults=None, module=None)\n",
    "\n",
    "A subclass of tuple that allows you to index elements by their name along with their numerical index.\n",
    "\n",
    "Parameters:\n",
    "- typename: The name of the nammedtuple.\n",
    "- field_names: The names of the fields.\n",
    "- rename: Rename invalid names (even names already defined in python).\n",
    "- defaults: Specify which fields have default parameters.\n",
    "- module: Sets the `__module__` attribute to the specified value."
   ]
  },
  {
   "cell_type": "code",
   "execution_count": 1,
   "metadata": {},
   "outputs": [],
   "source": [
    "from collections import namedtuple"
   ]
  },
  {
   "cell_type": "code",
   "execution_count": 2,
   "metadata": {},
   "outputs": [],
   "source": [
    "# we can name all the fields using a space separated string\n",
    "Employee = namedtuple('Employee', 'first_name last_name job_title salary')"
   ]
  },
  {
   "cell_type": "code",
   "execution_count": 3,
   "metadata": {},
   "outputs": [
    {
     "data": {
      "text/plain": [
       "('John', 'John', 'Developer', 'Developer')"
      ]
     },
     "execution_count": 3,
     "metadata": {},
     "output_type": "execute_result"
    }
   ],
   "source": [
    "john = Employee('John', 'Doe', job_title='Developer', salary=100)\n",
    "\n",
    "john.first_name, john[0], john.job_title, john[2]"
   ]
  },
  {
   "cell_type": "code",
   "execution_count": 4,
   "metadata": {},
   "outputs": [
    {
     "data": {
      "text/plain": [
       "Employee(first_name='John', last_name='Doe', job_title='Developer', salary=100)"
      ]
     },
     "execution_count": 4,
     "metadata": {},
     "output_type": "execute_result"
    }
   ],
   "source": [
    "# repr is already defined nicely for a namedtuple\n",
    "john"
   ]
  },
  {
   "cell_type": "code",
   "execution_count": 5,
   "metadata": {},
   "outputs": [
    {
     "data": {
      "text/plain": [
       "Point(x=5, y=11)"
      ]
     },
     "execution_count": 5,
     "metadata": {},
     "output_type": "execute_result"
    }
   ],
   "source": [
    "# Fields can also be a string with commas separating the names\n",
    "Point = namedtuple('Point', 'x, y')\n",
    "\n",
    "p1 = Point(5, 11)\n",
    "p1"
   ]
  },
  {
   "cell_type": "code",
   "execution_count": 6,
   "metadata": {},
   "outputs": [
    {
     "data": {
      "text/plain": [
       "Point(x=4, y=1)"
      ]
     },
     "execution_count": 6,
     "metadata": {},
     "output_type": "execute_result"
    }
   ],
   "source": [
    "# Fields can lastly be specified as a list\n",
    "Point = namedtuple('Point', ['x', 'y'])\n",
    "\n",
    "p2 = Point(4, 1)\n",
    "p2"
   ]
  },
  {
   "cell_type": "code",
   "execution_count": 7,
   "metadata": {},
   "outputs": [
    {
     "data": {
      "text/plain": [
       "Rename(abc=5, _1=6, ghi=7, _3=8)"
      ]
     },
     "execution_count": 7,
     "metadata": {},
     "output_type": "execute_result"
    }
   ],
   "source": [
    "rename = namedtuple('Rename', 'abc def ghi abc', rename=True)\n",
    "# rename def since that's a python keyword\n",
    "# rename the second abc\n",
    "stat = rename(5, 6, 7, 8)\n",
    "stat"
   ]
  },
  {
   "cell_type": "markdown",
   "metadata": {},
   "source": [
    ">In addition to the methods inherited from tuples, named tuples support three additional methods and two attributes. To prevent conflicts with field names, the method and attribute names start with an underscore.\n",
    "\n",
    "### classmethod somenamedtuple._make(iterable)\n",
    "\n",
    "Create a named tuple from a sequence / iterable."
   ]
  },
  {
   "cell_type": "code",
   "execution_count": 8,
   "metadata": {},
   "outputs": [
    {
     "data": {
      "text/plain": [
       "Point(x=0, y=0)"
      ]
     },
     "execution_count": 8,
     "metadata": {},
     "output_type": "execute_result"
    }
   ],
   "source": [
    "p3 = Point._make([0, 0])\n",
    "p3"
   ]
  },
  {
   "cell_type": "markdown",
   "metadata": {},
   "source": [
    "### somenamedtuple._asdict()\n",
    "\n",
    "Returns a dictionary that maps the fields to their values."
   ]
  },
  {
   "cell_type": "code",
   "execution_count": 9,
   "metadata": {},
   "outputs": [
    {
     "data": {
      "text/plain": [
       "{'x': 0, 'y': 0}"
      ]
     },
     "execution_count": 9,
     "metadata": {},
     "output_type": "execute_result"
    }
   ],
   "source": [
    "p3._asdict()"
   ]
  },
  {
   "cell_type": "markdown",
   "metadata": {},
   "source": [
    "### somenamedtuple._replace(**kwargs)\n",
    "\n",
    "Create a new namedtuple with the fileds replaced with new values."
   ]
  },
  {
   "cell_type": "code",
   "execution_count": 10,
   "metadata": {},
   "outputs": [
    {
     "data": {
      "text/plain": [
       "(Point(x=0, y=0), Point(x=1, y=0))"
      ]
     },
     "execution_count": 10,
     "metadata": {},
     "output_type": "execute_result"
    }
   ],
   "source": [
    "p4 = p3._replace(x=1)\n",
    "\n",
    "p3, p4"
   ]
  },
  {
   "cell_type": "code",
   "execution_count": 11,
   "metadata": {},
   "outputs": [
    {
     "data": {
      "text/plain": [
       "Point(x=5, y=2)"
      ]
     },
     "execution_count": 11,
     "metadata": {},
     "output_type": "execute_result"
    }
   ],
   "source": [
    "p5 = p3._replace(x=5, y=2)\n",
    "p5"
   ]
  },
  {
   "cell_type": "markdown",
   "metadata": {},
   "source": [
    "### somenamedtuple._fields\n",
    "\n",
    "Returns a tuple of a namedtuples fields as strings."
   ]
  },
  {
   "cell_type": "code",
   "execution_count": 12,
   "metadata": {},
   "outputs": [
    {
     "data": {
      "text/plain": [
       "('x', 'y')"
      ]
     },
     "execution_count": 12,
     "metadata": {},
     "output_type": "execute_result"
    }
   ],
   "source": [
    "p1._fields"
   ]
  },
  {
   "cell_type": "markdown",
   "metadata": {},
   "source": [
    "### somenamedtuple._field_defaults\n",
    "\n",
    "Returns a dictionary mapping fields to their default values."
   ]
  },
  {
   "cell_type": "code",
   "execution_count": 13,
   "metadata": {},
   "outputs": [],
   "source": [
    "\n",
    "Point3D = namedtuple('Point3D', 'x y z', defaults=[0,1])"
   ]
  },
  {
   "cell_type": "code",
   "execution_count": 14,
   "metadata": {},
   "outputs": [
    {
     "data": {
      "text/plain": [
       "Point3D(x=4, y=5, z=6)"
      ]
     },
     "execution_count": 14,
     "metadata": {},
     "output_type": "execute_result"
    }
   ],
   "source": [
    "p = Point3D(4,5,6)\n",
    "p"
   ]
  },
  {
   "cell_type": "code",
   "execution_count": 15,
   "metadata": {},
   "outputs": [
    {
     "data": {
      "text/plain": [
       "{'y': 0, 'z': 1}"
      ]
     },
     "execution_count": 15,
     "metadata": {},
     "output_type": "execute_result"
    }
   ],
   "source": [
    "p._field_defaults"
   ]
  },
  {
   "cell_type": "markdown",
   "metadata": {},
   "source": [
    "# deque([iterable[, maxlen]])\n",
    "\n",
    "A double ended queue (pronounced \"deck\") which supports efficient pushing and popping from either end. \n",
    "\n",
    "Parameters:\n",
    "- iterable: Optional - Initialize the deque with the elements from the given iterable.\n",
    "- maxlen: Optional - Specify the maximum allowed size of the deque, grows unlimited if unspecified."
   ]
  },
  {
   "cell_type": "code",
   "execution_count": 16,
   "metadata": {},
   "outputs": [],
   "source": [
    "from collections import deque"
   ]
  },
  {
   "cell_type": "code",
   "execution_count": 17,
   "metadata": {},
   "outputs": [
    {
     "data": {
      "text/plain": [
       "deque(['a', 'b', 'c', 'd', 'e', 'f', 'g'])"
      ]
     },
     "execution_count": 17,
     "metadata": {},
     "output_type": "execute_result"
    }
   ],
   "source": [
    "a = deque('abcdefg')\n",
    "a"
   ]
  },
  {
   "cell_type": "markdown",
   "metadata": {},
   "source": [
    "### append(x)\n",
    "\n",
    "Add x to the right side of the deque. If the deque is already maxlen then elements from the left side are discarded."
   ]
  },
  {
   "cell_type": "code",
   "execution_count": 18,
   "metadata": {},
   "outputs": [
    {
     "name": "stdout",
     "output_type": "stream",
     "text": [
      "deque(['a', 'b', 'c', 'd', 'e', 'f', 'g'])\n"
     ]
    },
    {
     "data": {
      "text/plain": [
       "deque(['a', 'b', 'c', 'd', 'e', 'f', 'g', 'i'])"
      ]
     },
     "execution_count": 18,
     "metadata": {},
     "output_type": "execute_result"
    }
   ],
   "source": [
    "print(a)\n",
    "a.append('i')\n",
    "a"
   ]
  },
  {
   "cell_type": "code",
   "execution_count": 19,
   "metadata": {},
   "outputs": [
    {
     "name": "stdout",
     "output_type": "stream",
     "text": [
      "deque([0, 1, 2, 3], maxlen=5)\n",
      "deque([0, 1, 2, 3, 4], maxlen=5)\n",
      "deque([1, 2, 3, 4, 5], maxlen=5)\n"
     ]
    }
   ],
   "source": [
    "b = deque(range(4), 5)\n",
    "print(b)\n",
    "b.append(4)\n",
    "print(b)\n",
    "b.append(5)\n",
    "print(b)"
   ]
  },
  {
   "cell_type": "markdown",
   "metadata": {},
   "source": [
    "### appendleft(x)\n",
    "\n",
    "Add x to the left side of the deque.  If the deque is already maxlen then elements from the right side are discarded."
   ]
  },
  {
   "cell_type": "code",
   "execution_count": 20,
   "metadata": {},
   "outputs": [
    {
     "name": "stdout",
     "output_type": "stream",
     "text": [
      "deque([1, 2, 3, 4, 5], maxlen=5)\n",
      "deque([6, 1, 2, 3, 4], maxlen=5)\n",
      "deque([7, 6, 1, 2, 3], maxlen=5)\n"
     ]
    }
   ],
   "source": [
    "print(b)\n",
    "b.appendleft(6)\n",
    "print(b)\n",
    "b.appendleft(7)\n",
    "print(b)"
   ]
  },
  {
   "cell_type": "markdown",
   "metadata": {},
   "source": [
    "### clear()\n",
    "\n",
    "Remove all elements from the deque."
   ]
  },
  {
   "cell_type": "code",
   "execution_count": 21,
   "metadata": {},
   "outputs": [
    {
     "name": "stdout",
     "output_type": "stream",
     "text": [
      "deque([7, 6, 1, 2, 3], maxlen=5)\n",
      "deque([], maxlen=5)\n"
     ]
    }
   ],
   "source": [
    "print(b)\n",
    "b.clear()\n",
    "print(b)"
   ]
  },
  {
   "cell_type": "markdown",
   "metadata": {},
   "source": [
    "### copy()\n",
    "\n",
    "Create a shallow copy of the deque."
   ]
  },
  {
   "cell_type": "code",
   "execution_count": 22,
   "metadata": {},
   "outputs": [
    {
     "name": "stdout",
     "output_type": "stream",
     "text": [
      "b: deque(['a', 'b', 'c', 'd', 'e', 'f', 'g', 'i'])\n",
      "b: deque(['a', 'b', 'c', 'd', 'e', 'f', 'g', 'i', 'j'])\n",
      "a: deque(['a', 'b', 'c', 'd', 'e', 'f', 'g', 'i'])\n"
     ]
    }
   ],
   "source": [
    "b = a.copy()\n",
    "print('b:', b)\n",
    "b.append('j')\n",
    "print('b:', b)\n",
    "print('a:', a)"
   ]
  },
  {
   "cell_type": "markdown",
   "metadata": {},
   "source": [
    "### count(x)\n",
    "\n",
    "Count the number of occurences of elements equal to x in the deque."
   ]
  },
  {
   "cell_type": "code",
   "execution_count": 23,
   "metadata": {},
   "outputs": [
    {
     "name": "stdout",
     "output_type": "stream",
     "text": [
      "a: deque(['a', 'b', 'c', 'd', 'e', 'f', 'g', 'i', 'a'])\n"
     ]
    },
    {
     "data": {
      "text/plain": [
       "2"
      ]
     },
     "execution_count": 23,
     "metadata": {},
     "output_type": "execute_result"
    }
   ],
   "source": [
    "a.append('a')\n",
    "print('a:', a)\n",
    "a.count('a')"
   ]
  },
  {
   "cell_type": "markdown",
   "metadata": {},
   "source": [
    "### extend(iterable)\n",
    "\n",
    "Extend the right end of the deque with an iterable."
   ]
  },
  {
   "cell_type": "code",
   "execution_count": 24,
   "metadata": {},
   "outputs": [
    {
     "name": "stdout",
     "output_type": "stream",
     "text": [
      "deque(['a', 'b', 'c', 'd', 'e', 'f', 'g', 'i', 'a', 'b', 'c', 'd', 'e'])\n"
     ]
    }
   ],
   "source": [
    "a.extend('bcde')\n",
    "print(a)"
   ]
  },
  {
   "cell_type": "markdown",
   "metadata": {},
   "source": [
    "### extendleft(iterable)\n",
    "\n",
    "Extend the left end of the deque with the iterable.\n",
    "\n",
    "Note: Elements added to the left end up in backwards order than how they are in `iterable`."
   ]
  },
  {
   "cell_type": "code",
   "execution_count": 25,
   "metadata": {},
   "outputs": [
    {
     "data": {
      "text/plain": [
       "deque([0, 1, 2])"
      ]
     },
     "execution_count": 25,
     "metadata": {},
     "output_type": "execute_result"
    }
   ],
   "source": [
    "nums = deque(range(3), 5)\n",
    "nums"
   ]
  },
  {
   "cell_type": "code",
   "execution_count": 26,
   "metadata": {},
   "outputs": [
    {
     "data": {
      "text/plain": [
       "deque([6, 5, 4, 3, 0])"
      ]
     },
     "execution_count": 26,
     "metadata": {},
     "output_type": "execute_result"
    }
   ],
   "source": [
    "nums.extendleft([3,4,5,6])\n",
    "nums"
   ]
  },
  {
   "cell_type": "markdown",
   "metadata": {},
   "source": [
    "### index(x[, start[, stop]])\n",
    "\n",
    "Returns the index of the first match for x in the deque between indices `start` and `stop`.\n",
    "\n",
    "Raises a `ValueError` if not found."
   ]
  },
  {
   "cell_type": "code",
   "execution_count": 27,
   "metadata": {},
   "outputs": [
    {
     "name": "stdout",
     "output_type": "stream",
     "text": [
      "deque([6, 5, 4, 3, 0], maxlen=5)\n",
      "2\n"
     ]
    },
    {
     "ename": "ValueError",
     "evalue": "7 is not in deque",
     "output_type": "error",
     "traceback": [
      "\u001b[0;31m---------------------------------------------------------------------------\u001b[0m",
      "\u001b[0;31mValueError\u001b[0m                                Traceback (most recent call last)",
      "\u001b[0;32m<ipython-input-27-219cf7652fd0>\u001b[0m in \u001b[0;36m<module>\u001b[0;34m\u001b[0m\n\u001b[1;32m      2\u001b[0m \u001b[0mprint\u001b[0m\u001b[0;34m(\u001b[0m\u001b[0mnums\u001b[0m\u001b[0;34m.\u001b[0m\u001b[0mindex\u001b[0m\u001b[0;34m(\u001b[0m\u001b[0;36m4\u001b[0m\u001b[0;34m)\u001b[0m\u001b[0;34m)\u001b[0m\u001b[0;34m\u001b[0m\u001b[0;34m\u001b[0m\u001b[0m\n\u001b[1;32m      3\u001b[0m \u001b[0;34m\u001b[0m\u001b[0m\n\u001b[0;32m----> 4\u001b[0;31m \u001b[0mprint\u001b[0m\u001b[0;34m(\u001b[0m\u001b[0mnums\u001b[0m\u001b[0;34m.\u001b[0m\u001b[0mindex\u001b[0m\u001b[0;34m(\u001b[0m\u001b[0;36m7\u001b[0m\u001b[0;34m)\u001b[0m\u001b[0;34m)\u001b[0m\u001b[0;34m\u001b[0m\u001b[0;34m\u001b[0m\u001b[0m\n\u001b[0m",
      "\u001b[0;31mValueError\u001b[0m: 7 is not in deque"
     ]
    }
   ],
   "source": [
    "print(nums)\n",
    "print(nums.index(4))\n",
    "\n",
    "print(nums.index(7))"
   ]
  },
  {
   "cell_type": "markdown",
   "metadata": {},
   "source": [
    "### insert(i, x)\n",
    "\n",
    "Insert element `x` at index `i`. \n",
    "\n",
    "Raises an `IndexError` if inserting `x` causes the deque to exceed it's maxlen."
   ]
  },
  {
   "cell_type": "code",
   "execution_count": 28,
   "metadata": {},
   "outputs": [
    {
     "name": "stdout",
     "output_type": "stream",
     "text": [
      "deque([0, 1, 2], maxlen=5)\n",
      "deque([0, 3, 1, 2], maxlen=5)\n",
      "deque([0, 3, 1, 4, 2], maxlen=5)\n"
     ]
    },
    {
     "ename": "IndexError",
     "evalue": "deque already at its maximum size",
     "output_type": "error",
     "traceback": [
      "\u001b[0;31m---------------------------------------------------------------------------\u001b[0m",
      "\u001b[0;31mIndexError\u001b[0m                                Traceback (most recent call last)",
      "\u001b[0;32m<ipython-input-28-21a22e23ac71>\u001b[0m in \u001b[0;36m<module>\u001b[0;34m\u001b[0m\n\u001b[1;32m      7\u001b[0m \u001b[0mprint\u001b[0m\u001b[0;34m(\u001b[0m\u001b[0mnums\u001b[0m\u001b[0;34m)\u001b[0m\u001b[0;34m\u001b[0m\u001b[0;34m\u001b[0m\u001b[0m\n\u001b[1;32m      8\u001b[0m \u001b[0;31m# Throws an error.\u001b[0m\u001b[0;34m\u001b[0m\u001b[0;34m\u001b[0m\u001b[0;34m\u001b[0m\u001b[0m\n\u001b[0;32m----> 9\u001b[0;31m \u001b[0mnums\u001b[0m\u001b[0;34m.\u001b[0m\u001b[0minsert\u001b[0m\u001b[0;34m(\u001b[0m\u001b[0;36m4\u001b[0m\u001b[0;34m,\u001b[0m \u001b[0;36m5\u001b[0m\u001b[0;34m)\u001b[0m\u001b[0;34m\u001b[0m\u001b[0;34m\u001b[0m\u001b[0m\n\u001b[0m",
      "\u001b[0;31mIndexError\u001b[0m: deque already at its maximum size"
     ]
    }
   ],
   "source": [
    "nums = deque(range(3), 5)\n",
    "print(nums)\n",
    "\n",
    "nums.insert(1, 3)\n",
    "print(nums)\n",
    "nums.insert(3, 4)\n",
    "print(nums)\n",
    "# Throws an error.\n",
    "nums.insert(4, 5)"
   ]
  },
  {
   "cell_type": "markdown",
   "metadata": {},
   "source": [
    "### pop()\n",
    "\n",
    "Remove and return the element at the right side of the deque. If the deque is already empty then it raises an `IndexError`."
   ]
  },
  {
   "cell_type": "code",
   "execution_count": 29,
   "metadata": {},
   "outputs": [
    {
     "name": "stdout",
     "output_type": "stream",
     "text": [
      "deque([0, 1, 2])\n",
      "pop 2\n",
      "deque([0, 1])\n",
      "pop 1\n",
      "deque([0])\n",
      "pop 0\n",
      "deque([])\n"
     ]
    },
    {
     "ename": "IndexError",
     "evalue": "pop from an empty deque",
     "output_type": "error",
     "traceback": [
      "\u001b[0;31m---------------------------------------------------------------------------\u001b[0m",
      "\u001b[0;31mIndexError\u001b[0m                                Traceback (most recent call last)",
      "\u001b[0;32m<ipython-input-29-38f097a4ee1f>\u001b[0m in \u001b[0;36m<module>\u001b[0;34m\u001b[0m\n\u001b[1;32m      7\u001b[0m \u001b[0mprint\u001b[0m\u001b[0;34m(\u001b[0m\u001b[0;34m'pop'\u001b[0m\u001b[0;34m,\u001b[0m \u001b[0mnums\u001b[0m\u001b[0;34m.\u001b[0m\u001b[0mpop\u001b[0m\u001b[0;34m(\u001b[0m\u001b[0;34m)\u001b[0m\u001b[0;34m)\u001b[0m\u001b[0;34m\u001b[0m\u001b[0;34m\u001b[0m\u001b[0m\n\u001b[1;32m      8\u001b[0m \u001b[0mprint\u001b[0m\u001b[0;34m(\u001b[0m\u001b[0mnums\u001b[0m\u001b[0;34m)\u001b[0m\u001b[0;34m\u001b[0m\u001b[0;34m\u001b[0m\u001b[0m\n\u001b[0;32m----> 9\u001b[0;31m \u001b[0mprint\u001b[0m\u001b[0;34m(\u001b[0m\u001b[0;34m'pop'\u001b[0m\u001b[0;34m,\u001b[0m \u001b[0mnums\u001b[0m\u001b[0;34m.\u001b[0m\u001b[0mpop\u001b[0m\u001b[0;34m(\u001b[0m\u001b[0;34m)\u001b[0m\u001b[0;34m)\u001b[0m\u001b[0;34m\u001b[0m\u001b[0;34m\u001b[0m\u001b[0m\n\u001b[0m",
      "\u001b[0;31mIndexError\u001b[0m: pop from an empty deque"
     ]
    }
   ],
   "source": [
    "nums = deque(range(3))\n",
    "print(nums)\n",
    "print('pop', nums.pop())\n",
    "print(nums)\n",
    "print('pop', nums.pop())\n",
    "print(nums)\n",
    "print('pop', nums.pop())\n",
    "print(nums)\n",
    "print('pop', nums.pop())"
   ]
  },
  {
   "cell_type": "markdown",
   "metadata": {},
   "source": [
    "### popleft()\n",
    "\n",
    "Remove and return the element at the left side of the deque. If the deque is already empty then it raises an `IndexError`."
   ]
  },
  {
   "cell_type": "code",
   "execution_count": 30,
   "metadata": {},
   "outputs": [
    {
     "name": "stdout",
     "output_type": "stream",
     "text": [
      "deque([0, 1, 2])\n",
      "pop 0\n",
      "deque([1, 2])\n",
      "pop 1\n",
      "deque([2])\n",
      "pop 2\n",
      "deque([])\n"
     ]
    },
    {
     "ename": "IndexError",
     "evalue": "pop from an empty deque",
     "output_type": "error",
     "traceback": [
      "\u001b[0;31m---------------------------------------------------------------------------\u001b[0m",
      "\u001b[0;31mIndexError\u001b[0m                                Traceback (most recent call last)",
      "\u001b[0;32m<ipython-input-30-3036fcd1b51b>\u001b[0m in \u001b[0;36m<module>\u001b[0;34m\u001b[0m\n\u001b[1;32m      7\u001b[0m \u001b[0mprint\u001b[0m\u001b[0;34m(\u001b[0m\u001b[0;34m'pop'\u001b[0m\u001b[0;34m,\u001b[0m \u001b[0mnums\u001b[0m\u001b[0;34m.\u001b[0m\u001b[0mpopleft\u001b[0m\u001b[0;34m(\u001b[0m\u001b[0;34m)\u001b[0m\u001b[0;34m)\u001b[0m\u001b[0;34m\u001b[0m\u001b[0;34m\u001b[0m\u001b[0m\n\u001b[1;32m      8\u001b[0m \u001b[0mprint\u001b[0m\u001b[0;34m(\u001b[0m\u001b[0mnums\u001b[0m\u001b[0;34m)\u001b[0m\u001b[0;34m\u001b[0m\u001b[0;34m\u001b[0m\u001b[0m\n\u001b[0;32m----> 9\u001b[0;31m \u001b[0mprint\u001b[0m\u001b[0;34m(\u001b[0m\u001b[0;34m'pop'\u001b[0m\u001b[0;34m,\u001b[0m \u001b[0mnums\u001b[0m\u001b[0;34m.\u001b[0m\u001b[0mpopleft\u001b[0m\u001b[0;34m(\u001b[0m\u001b[0;34m)\u001b[0m\u001b[0;34m)\u001b[0m\u001b[0;34m\u001b[0m\u001b[0;34m\u001b[0m\u001b[0m\n\u001b[0m",
      "\u001b[0;31mIndexError\u001b[0m: pop from an empty deque"
     ]
    }
   ],
   "source": [
    "nums = deque(range(3))\n",
    "print(nums)\n",
    "print('pop', nums.popleft())\n",
    "print(nums)\n",
    "print('pop', nums.popleft())\n",
    "print(nums)\n",
    "print('pop', nums.popleft())\n",
    "print(nums)\n",
    "print('pop', nums.popleft())"
   ]
  },
  {
   "cell_type": "markdown",
   "metadata": {},
   "source": [
    "### remove(value)\n",
    "\n",
    "Remove the first occurence of `value`. If not found, raises a `ValueError`."
   ]
  },
  {
   "cell_type": "code",
   "execution_count": 31,
   "metadata": {},
   "outputs": [
    {
     "name": "stdout",
     "output_type": "stream",
     "text": [
      "deque([0, 1, 2])\n",
      "deque([0, 2])\n"
     ]
    }
   ],
   "source": [
    "nums = deque(range(3))\n",
    "print(nums)\n",
    "\n",
    "nums.remove(1)\n",
    "print(nums)"
   ]
  },
  {
   "cell_type": "markdown",
   "metadata": {},
   "source": [
    "### reverse()\n",
    "\n",
    "Reverse the elements of the deque in-place. \\\n",
    "Returns None."
   ]
  },
  {
   "cell_type": "code",
   "execution_count": 32,
   "metadata": {},
   "outputs": [
    {
     "name": "stdout",
     "output_type": "stream",
     "text": [
      "deque(['a', 'b', 'c', 'd', 'e', 'f'])\n",
      "deque(['f', 'e', 'd', 'c', 'b', 'a'])\n"
     ]
    }
   ],
   "source": [
    "nums = deque('abcdef')\n",
    "print(nums)\n",
    "nums.reverse()\n",
    "print(nums)"
   ]
  },
  {
   "cell_type": "markdown",
   "metadata": {},
   "source": [
    "### rotate(n=1)\n",
    "\n",
    "Rotate the deque n steps to the right. If n is negative rotate n steps to the left."
   ]
  },
  {
   "cell_type": "code",
   "execution_count": 33,
   "metadata": {},
   "outputs": [
    {
     "name": "stdout",
     "output_type": "stream",
     "text": [
      "deque(['f', 'e', 'd', 'c', 'b', 'a'])\n",
      "deque(['b', 'a', 'f', 'e', 'd', 'c'])\n",
      "deque(['e', 'd', 'c', 'b', 'a', 'f'])\n"
     ]
    }
   ],
   "source": [
    "print(nums)\n",
    "nums.rotate(2)\n",
    "print(nums)\n",
    "nums.rotate(-3)\n",
    "print(nums)"
   ]
  },
  {
   "cell_type": "markdown",
   "metadata": {},
   "source": [
    "### maxlen\n",
    "\n",
    "Returns the maximum size of the deque, None if unbounded.\n",
    "\n",
    "Read-Only"
   ]
  },
  {
   "cell_type": "code",
   "execution_count": 34,
   "metadata": {},
   "outputs": [
    {
     "name": "stdout",
     "output_type": "stream",
     "text": [
      "None\n",
      "None\n"
     ]
    }
   ],
   "source": [
    "print(a.maxlen)\n",
    "print(b.maxlen)"
   ]
  },
  {
   "cell_type": "markdown",
   "metadata": {},
   "source": [
    "# ChainMap(*maps)\n",
    "\n",
    "Groups multiple dicts/mappings into one single updateable view.\n",
    "\n",
    "All of the usual dictionary methods are supported."
   ]
  },
  {
   "cell_type": "code",
   "execution_count": 35,
   "metadata": {},
   "outputs": [],
   "source": [
    "from collections import ChainMap"
   ]
  },
  {
   "cell_type": "code",
   "execution_count": 36,
   "metadata": {},
   "outputs": [
    {
     "name": "stdout",
     "output_type": "stream",
     "text": [
      "ChainMap({'a': 1, 'b': 2}, {'b': 3, 'c': 4, 'd': 5}, {'d': 6, 'e': 7})\n",
      "1\t2\t4\n"
     ]
    }
   ],
   "source": [
    "dict1 = {'a': 1, 'b': 2}\n",
    "dict2 = {'b': 3, 'c': 4, 'd': 5}\n",
    "dict3 = {'d': 6, 'e': 7}\n",
    "\n",
    "chain = ChainMap(dict1, dict2, dict3)\n",
    "print(chain)\n",
    "\n",
    "print(chain['a'], chain['b'], chain['c'], sep='\\t')"
   ]
  },
  {
   "cell_type": "markdown",
   "metadata": {},
   "source": [
    "The underlying mappings are stored in a list that can be accessed through the `maps` attribute.\n",
    "\n",
    "A ChainMap incorporates the underlying mappings by reference. So, if one of the underlying mappings gets updated, those changes will be reflected in ChainMap."
   ]
  },
  {
   "cell_type": "code",
   "execution_count": 37,
   "metadata": {},
   "outputs": [
    {
     "name": "stdout",
     "output_type": "stream",
     "text": [
      "[{'a': 1, 'b': 2}, {'b': 3, 'c': 4, 'd': 5}, {'d': 6, 'e': 7}]\n",
      "3\n",
      "ChainMap({'b': 2}, {'b': 3, 'c': 4, 'd': 5}, {'d': 6, 'e': 7})\n"
     ]
    }
   ],
   "source": [
    "print(chain.maps)\n",
    "\n",
    "print(len(chain.maps))\n",
    "\n",
    "del dict1['a']\n",
    "\n",
    "print(chain)"
   ]
  },
  {
   "cell_type": "markdown",
   "metadata": {},
   "source": [
    "Lookups search the underlying mappings successively until a key is found. In contrast, writes, updates, and deletions only operate on the first mapping."
   ]
  },
  {
   "cell_type": "code",
   "execution_count": 38,
   "metadata": {},
   "outputs": [
    {
     "name": "stdout",
     "output_type": "stream",
     "text": [
      "ChainMap({'b': 2}, {'b': 3, 'c': 4, 'd': 5}, {'d': 6, 'e': 7})\n",
      "2\n",
      "ChainMap({'a': 1}, {'b': 3, 'c': 4, 'd': 5}, {'d': 6, 'e': 7})\n"
     ]
    },
    {
     "ename": "KeyError",
     "evalue": "\"Key not found in the first mapping: 'c'\"",
     "output_type": "error",
     "traceback": [
      "\u001b[0;31m---------------------------------------------------------------------------\u001b[0m",
      "\u001b[0;31mKeyError\u001b[0m                                  Traceback (most recent call last)",
      "\u001b[0;32m~/opt/anaconda3/envs/python3_8/lib/python3.8/collections/__init__.py\u001b[0m in \u001b[0;36m__delitem__\u001b[0;34m(self, key)\u001b[0m\n\u001b[1;32m    943\u001b[0m         \u001b[0;32mtry\u001b[0m\u001b[0;34m:\u001b[0m\u001b[0;34m\u001b[0m\u001b[0;34m\u001b[0m\u001b[0m\n\u001b[0;32m--> 944\u001b[0;31m             \u001b[0;32mdel\u001b[0m \u001b[0mself\u001b[0m\u001b[0;34m.\u001b[0m\u001b[0mmaps\u001b[0m\u001b[0;34m[\u001b[0m\u001b[0;36m0\u001b[0m\u001b[0;34m]\u001b[0m\u001b[0;34m[\u001b[0m\u001b[0mkey\u001b[0m\u001b[0;34m]\u001b[0m\u001b[0;34m\u001b[0m\u001b[0;34m\u001b[0m\u001b[0m\n\u001b[0m\u001b[1;32m    945\u001b[0m         \u001b[0;32mexcept\u001b[0m \u001b[0mKeyError\u001b[0m\u001b[0;34m:\u001b[0m\u001b[0;34m\u001b[0m\u001b[0;34m\u001b[0m\u001b[0m\n",
      "\u001b[0;31mKeyError\u001b[0m: 'c'",
      "\nDuring handling of the above exception, another exception occurred:\n",
      "\u001b[0;31mKeyError\u001b[0m                                  Traceback (most recent call last)",
      "\u001b[0;32m<ipython-input-38-c345217f76b9>\u001b[0m in \u001b[0;36m<module>\u001b[0;34m\u001b[0m\n\u001b[1;32m      8\u001b[0m \u001b[0;34m\u001b[0m\u001b[0m\n\u001b[1;32m      9\u001b[0m \u001b[0;31m# fails because 'c' is not in the first mapping.\u001b[0m\u001b[0;34m\u001b[0m\u001b[0;34m\u001b[0m\u001b[0;34m\u001b[0m\u001b[0m\n\u001b[0;32m---> 10\u001b[0;31m \u001b[0;32mdel\u001b[0m \u001b[0mchain\u001b[0m\u001b[0;34m[\u001b[0m\u001b[0;34m'c'\u001b[0m\u001b[0;34m]\u001b[0m\u001b[0;34m\u001b[0m\u001b[0;34m\u001b[0m\u001b[0m\n\u001b[0m\u001b[1;32m     11\u001b[0m \u001b[0mprint\u001b[0m\u001b[0;34m(\u001b[0m\u001b[0mchain\u001b[0m\u001b[0;34m)\u001b[0m\u001b[0;34m\u001b[0m\u001b[0;34m\u001b[0m\u001b[0m\n",
      "\u001b[0;32m~/opt/anaconda3/envs/python3_8/lib/python3.8/collections/__init__.py\u001b[0m in \u001b[0;36m__delitem__\u001b[0;34m(self, key)\u001b[0m\n\u001b[1;32m    944\u001b[0m             \u001b[0;32mdel\u001b[0m \u001b[0mself\u001b[0m\u001b[0;34m.\u001b[0m\u001b[0mmaps\u001b[0m\u001b[0;34m[\u001b[0m\u001b[0;36m0\u001b[0m\u001b[0;34m]\u001b[0m\u001b[0;34m[\u001b[0m\u001b[0mkey\u001b[0m\u001b[0;34m]\u001b[0m\u001b[0;34m\u001b[0m\u001b[0;34m\u001b[0m\u001b[0m\n\u001b[1;32m    945\u001b[0m         \u001b[0;32mexcept\u001b[0m \u001b[0mKeyError\u001b[0m\u001b[0;34m:\u001b[0m\u001b[0;34m\u001b[0m\u001b[0;34m\u001b[0m\u001b[0m\n\u001b[0;32m--> 946\u001b[0;31m             \u001b[0;32mraise\u001b[0m \u001b[0mKeyError\u001b[0m\u001b[0;34m(\u001b[0m\u001b[0;34m'Key not found in the first mapping: {!r}'\u001b[0m\u001b[0;34m.\u001b[0m\u001b[0mformat\u001b[0m\u001b[0;34m(\u001b[0m\u001b[0mkey\u001b[0m\u001b[0;34m)\u001b[0m\u001b[0;34m)\u001b[0m\u001b[0;34m\u001b[0m\u001b[0;34m\u001b[0m\u001b[0m\n\u001b[0m\u001b[1;32m    947\u001b[0m \u001b[0;34m\u001b[0m\u001b[0m\n\u001b[1;32m    948\u001b[0m     \u001b[0;32mdef\u001b[0m \u001b[0mpopitem\u001b[0m\u001b[0;34m(\u001b[0m\u001b[0mself\u001b[0m\u001b[0;34m)\u001b[0m\u001b[0;34m:\u001b[0m\u001b[0;34m\u001b[0m\u001b[0;34m\u001b[0m\u001b[0m\n",
      "\u001b[0;31mKeyError\u001b[0m: \"Key not found in the first mapping: 'c'\""
     ]
    }
   ],
   "source": [
    "print(chain)\n",
    "print(chain['b'])\n",
    "\n",
    "del chain['b']\n",
    "chain['a'] = 1\n",
    "\n",
    "print(chain)\n",
    "\n",
    "# fails because 'c' is not in the first mapping.\n",
    "del chain['c']\n",
    "print(chain)"
   ]
  },
  {
   "cell_type": "code",
   "execution_count": 39,
   "metadata": {},
   "outputs": [
    {
     "data": {
      "text/plain": [
       "ChainMap({'a': 1}, {'b': 3, 'c': 4, 'd': 5}, {'d': 6, 'e': 7}, {'f': 30, 'g': 40})"
      ]
     },
     "execution_count": 39,
     "metadata": {},
     "output_type": "execute_result"
    }
   ],
   "source": [
    "chain.maps.append({'f': 30, 'g': 40})\n",
    "chain"
   ]
  },
  {
   "cell_type": "markdown",
   "metadata": {},
   "source": [
    "### new_child(m=None)\n",
    "\n",
    "Returns a ChainMap of a new mapping followed by all mappings in the current ChainMap. If m is None the new mapping is an empty dict, otherwise it's m."
   ]
  },
  {
   "cell_type": "code",
   "execution_count": 40,
   "metadata": {},
   "outputs": [
    {
     "data": {
      "text/plain": [
       "ChainMap({'1': 1, '2': 2}, {'a': 1}, {'b': 3, 'c': 4, 'd': 5}, {'d': 6, 'e': 7}, {'f': 30, 'g': 40})"
      ]
     },
     "execution_count": 40,
     "metadata": {},
     "output_type": "execute_result"
    }
   ],
   "source": [
    "new_chain = chain.new_child({'1':1, '2':2})\n",
    "new_chain"
   ]
  },
  {
   "cell_type": "code",
   "execution_count": 41,
   "metadata": {},
   "outputs": [
    {
     "name": "stdout",
     "output_type": "stream",
     "text": [
      "ChainMap({'1': 1, '2': 2}, {'a': 1}, {'c': 4, 'd': 5}, {'d': 6, 'e': 7}, {'f': 30, 'g': 40})\n",
      "ChainMap({'a': 1}, {'c': 4, 'd': 5}, {'d': 6, 'e': 7}, {'f': 30, 'g': 40})\n"
     ]
    }
   ],
   "source": [
    "del new_chain.maps[2]['b']\n",
    "print(new_chain)\n",
    "print(chain)"
   ]
  },
  {
   "cell_type": "markdown",
   "metadata": {},
   "source": [
    "### parents\n",
    "\n",
    "Returns a new ChainMap with all the current mappings except the first one."
   ]
  },
  {
   "cell_type": "code",
   "execution_count": 42,
   "metadata": {},
   "outputs": [
    {
     "name": "stdout",
     "output_type": "stream",
     "text": [
      "ChainMap({'a': 1}, {'c': 4, 'd': 5}, {'d': 6, 'e': 7}, {'f': 30, 'g': 40})\n"
     ]
    },
    {
     "data": {
      "text/plain": [
       "ChainMap({'c': 4, 'd': 5}, {'d': 6, 'e': 7}, {'f': 30, 'g': 40})"
      ]
     },
     "execution_count": 42,
     "metadata": {},
     "output_type": "execute_result"
    }
   ],
   "source": [
    "print(chain)\n",
    "\n",
    "chain.parents"
   ]
  },
  {
   "cell_type": "markdown",
   "metadata": {},
   "source": [
    "# Counter([iterable-or-mapping])\n",
    "\n",
    "A dict subclass that counts occurrances of hashable objects. Basically a dictionary where the keys are the elements/objects and the values are their counts or number of occurances.\n",
    "\n",
    "Every method / attribute of dict is available to Counter.\n",
    "\n",
    "Unlike dicts, returns 0 for missing keys instead of raising a `KeyError`."
   ]
  },
  {
   "cell_type": "code",
   "execution_count": 43,
   "metadata": {},
   "outputs": [],
   "source": [
    "from collections import Counter"
   ]
  },
  {
   "cell_type": "code",
   "execution_count": 44,
   "metadata": {},
   "outputs": [
    {
     "data": {
      "text/plain": [
       "Counter({'h': 1, 'e': 1, 'l': 2, 'o': 1})"
      ]
     },
     "execution_count": 44,
     "metadata": {},
     "output_type": "execute_result"
    }
   ],
   "source": [
    "c = Counter('hello')\n",
    "c"
   ]
  },
  {
   "cell_type": "code",
   "execution_count": 45,
   "metadata": {},
   "outputs": [
    {
     "name": "stdout",
     "output_type": "stream",
     "text": [
      "Counter({'b': 3, 'a': 2})\n"
     ]
    },
    {
     "data": {
      "text/plain": [
       "0"
      ]
     },
     "execution_count": 45,
     "metadata": {},
     "output_type": "execute_result"
    }
   ],
   "source": [
    "c = Counter({'a': 2, 'b': 3})\n",
    "print(c)\n",
    "c['c']"
   ]
  },
  {
   "cell_type": "markdown",
   "metadata": {},
   "source": [
    "### elements()\n",
    "\n",
    "Returns an iterator over the elements in the Counter repeating each for as many counts as it has. \n",
    "\n",
    "Elements with a count of 0 are ignored."
   ]
  },
  {
   "cell_type": "code",
   "execution_count": 46,
   "metadata": {},
   "outputs": [
    {
     "data": {
      "text/plain": [
       "Counter({'a': 2, 'b': 3, 'c': 1, 'd': 1, 'e': 1})"
      ]
     },
     "execution_count": 46,
     "metadata": {},
     "output_type": "execute_result"
    }
   ],
   "source": [
    "c = Counter()\n",
    "c.update('abbacdeb')\n",
    "c"
   ]
  },
  {
   "cell_type": "code",
   "execution_count": 47,
   "metadata": {},
   "outputs": [
    {
     "name": "stdout",
     "output_type": "stream",
     "text": [
      "a  a  b  b  b  c  d  e  "
     ]
    }
   ],
   "source": [
    "for i in c.elements():\n",
    "    print(i, end='  ')"
   ]
  },
  {
   "cell_type": "markdown",
   "metadata": {},
   "source": [
    "### most_common(\\[n\\])\n",
    "\n",
    "Returns a list of the n most common elements in decreasing order. \n",
    "\n",
    "If n is None then returns all the elements."
   ]
  },
  {
   "cell_type": "code",
   "execution_count": 48,
   "metadata": {},
   "outputs": [
    {
     "name": "stdout",
     "output_type": "stream",
     "text": [
      "Counter({'b': 3, 'a': 2, 'c': 1, 'd': 1, 'e': 1})\n"
     ]
    },
    {
     "data": {
      "text/plain": [
       "[('b', 3), ('a', 2)]"
      ]
     },
     "execution_count": 48,
     "metadata": {},
     "output_type": "execute_result"
    }
   ],
   "source": [
    "print(c)\n",
    "c.most_common(2)"
   ]
  },
  {
   "cell_type": "markdown",
   "metadata": {},
   "source": [
    "### subtract(\\[iterable-or-mapping\\])\n",
    "\n",
    "Element counts are substracted from the counter by the iterable-or-mapping."
   ]
  },
  {
   "cell_type": "code",
   "execution_count": 49,
   "metadata": {},
   "outputs": [
    {
     "name": "stdout",
     "output_type": "stream",
     "text": [
      "Counter({'a': 2, 'b': 2, 'c': 2, 'd': 2, 'e': 2, 'f': 2})\n",
      "Counter({'b': 4, 'f': 3, 'a': 2, 'c': 2})\n",
      "\n",
      "Counter({'d': 2, 'e': 2, 'a': 0, 'c': 0, 'f': -1, 'b': -2})\n"
     ]
    }
   ],
   "source": [
    "c = Counter('abbacddeffce')\n",
    "d = Counter('abbbbaccfff')\n",
    "\n",
    "print(c)\n",
    "print(d)\n",
    "print()\n",
    "c.subtract(d)\n",
    "print(c)"
   ]
  },
  {
   "cell_type": "markdown",
   "metadata": {},
   "source": [
    "Note: \n",
    "- The `fromkeys` method for dict is not implemented for Counter objects. \n",
    "- The `update` method doesn't replace keys but rather adds to their value."
   ]
  },
  {
   "cell_type": "markdown",
   "metadata": {},
   "source": [
    "# OrderedDict(\\[items\\])\n",
    "\n",
    "A dict subclass that remembers the order of insertion."
   ]
  },
  {
   "cell_type": "code",
   "execution_count": 50,
   "metadata": {},
   "outputs": [],
   "source": [
    "from collections import OrderedDict"
   ]
  },
  {
   "cell_type": "code",
   "execution_count": 51,
   "metadata": {},
   "outputs": [
    {
     "data": {
      "text/plain": [
       "OrderedDict([('a', 1), ('b', 2), ('c', 3), ('d', 4)])"
      ]
     },
     "execution_count": 51,
     "metadata": {},
     "output_type": "execute_result"
    }
   ],
   "source": [
    "d = OrderedDict()\n",
    "d['a'] = 1\n",
    "d['b'] = 2\n",
    "d['c'] = 3\n",
    "d['d'] = 4\n",
    "d"
   ]
  },
  {
   "cell_type": "markdown",
   "metadata": {},
   "source": [
    "### popitem(last=True)\n",
    "\n",
    "Returns and removes a (key, value) pair. If last=True then removes a pair in LIFO (Last In First Out) order.\n",
    "Otherwise removes a pair in FIFO (First In First Out) order."
   ]
  },
  {
   "cell_type": "code",
   "execution_count": 52,
   "metadata": {},
   "outputs": [
    {
     "name": "stdout",
     "output_type": "stream",
     "text": [
      "OrderedDict([('a', 1), ('b', 2), ('c', 3)])\n",
      "OrderedDict([('b', 2), ('c', 3)])\n"
     ]
    }
   ],
   "source": [
    "d.popitem()\n",
    "print(d)\n",
    "d.popitem(last=False)\n",
    "print(d)"
   ]
  },
  {
   "cell_type": "markdown",
   "metadata": {},
   "source": [
    "### move_to_end(key, last=True)\n",
    "\n",
    "Move an existing key to either end of the dictionary depending on `last`."
   ]
  },
  {
   "cell_type": "code",
   "execution_count": 53,
   "metadata": {},
   "outputs": [
    {
     "name": "stdout",
     "output_type": "stream",
     "text": [
      "OrderedDict([('b', 2), ('c', 3), ('d', 4), ('a', 1)])\n"
     ]
    },
    {
     "data": {
      "text/plain": [
       "OrderedDict([('d', 4), ('b', 2), ('c', 3), ('a', 1)])"
      ]
     },
     "execution_count": 53,
     "metadata": {},
     "output_type": "execute_result"
    }
   ],
   "source": [
    "d = OrderedDict()\n",
    "d['a'], d['b'], d['c'], d['d'] = 1, 2, 3, 4\n",
    "d\n",
    "\n",
    "d.move_to_end('a')\n",
    "print(d)\n",
    "\n",
    "d.move_to_end('d', last=False)\n",
    "d"
   ]
  },
  {
   "cell_type": "markdown",
   "metadata": {},
   "source": [
    "# defaultdict([default_factory[, ...]])\n",
    "\n",
    "A subclass of dict that doesn't raise a `KeyError` when an invalid key is specified as long as default_factory is not None."
   ]
  },
  {
   "cell_type": "code",
   "execution_count": 54,
   "metadata": {},
   "outputs": [],
   "source": [
    "from collections import defaultdict"
   ]
  },
  {
   "cell_type": "code",
   "execution_count": 55,
   "metadata": {},
   "outputs": [
    {
     "data": {
      "text/plain": [
       "defaultdict(int, {'a': 1, 'b': 5})"
      ]
     },
     "execution_count": 55,
     "metadata": {},
     "output_type": "execute_result"
    }
   ],
   "source": [
    "d = defaultdict(int, [('a', 1), ('b', 5)])\n",
    "d"
   ]
  },
  {
   "cell_type": "code",
   "execution_count": 56,
   "metadata": {},
   "outputs": [
    {
     "name": "stdout",
     "output_type": "stream",
     "text": [
      "0 0\n"
     ]
    },
    {
     "data": {
      "text/plain": [
       "defaultdict(int, {'a': 1, 'b': 5, 'c': 0, 'd': 0})"
      ]
     },
     "execution_count": 56,
     "metadata": {},
     "output_type": "execute_result"
    }
   ],
   "source": [
    "print(d['c'], d['d'])\n",
    "d"
   ]
  },
  {
   "cell_type": "markdown",
   "metadata": {},
   "source": [
    "# UserDict, UserList, UserString\n",
    "\n",
    "When subclassing dict, list, or string it's easier to subclass UserDict, UserList, and UserString instead. More functionality is implemented for you out of the box.\n",
    "\n",
    "## And that's all the main collections offered in the collections module."
   ]
  },
  {
   "cell_type": "code",
   "execution_count": null,
   "metadata": {},
   "outputs": [],
   "source": []
  }
 ],
 "metadata": {
  "kernelspec": {
   "display_name": "Python 3.8",
   "language": "python",
   "name": "python3_8"
  },
  "language_info": {
   "codemirror_mode": {
    "name": "ipython",
    "version": 3
   },
   "file_extension": ".py",
   "mimetype": "text/x-python",
   "name": "python",
   "nbconvert_exporter": "python",
   "pygments_lexer": "ipython3",
   "version": "3.8.2"
  },
  "toc-autonumbering": false,
  "toc-showcode": false,
  "toc-showmarkdowntxt": false,
  "toc-showtags": false
 },
 "nbformat": 4,
 "nbformat_minor": 4
}
