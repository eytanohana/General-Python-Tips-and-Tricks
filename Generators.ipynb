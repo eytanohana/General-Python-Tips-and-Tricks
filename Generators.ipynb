{
 "cells": [
  {
   "cell_type": "markdown",
   "metadata": {},
   "source": [
    "# Generators\n",
    "***\n",
    "A generator in python is a function that returns a set of items one at a time. In other words, you can iterate over the functions and retrieve each object.\n",
    "\n",
    "Generators look exactly like functions but instead of returning elements, you `yield` elements."
   ]
  },
  {
   "cell_type": "code",
   "execution_count": 47,
   "metadata": {},
   "outputs": [
    {
     "name": "stdout",
     "output_type": "stream",
     "text": [
      "<class 'generator'>\n"
     ]
    }
   ],
   "source": [
    "def range_gen(n=3):\n",
    "    i = 0\n",
    "    while i < n:\n",
    "        yield i\n",
    "        i += 1\n",
    "\n",
    "print(type(range_gen()))"
   ]
  },
  {
   "cell_type": "code",
   "execution_count": 48,
   "metadata": {},
   "outputs": [
    {
     "name": "stdout",
     "output_type": "stream",
     "text": [
      "0 1 2 3 4 \n",
      "0 1 2 3 4 "
     ]
    }
   ],
   "source": [
    "range_5 = range_gen(5)\n",
    "for i in range_5:\n",
    "    print(i, end=' ')\n",
    "    \n",
    "print()\n",
    "# or just\n",
    "for i in range_gen(5):\n",
    "    print(i, end=' ')"
   ]
  },
  {
   "cell_type": "markdown",
   "metadata": {},
   "source": [
    "Above we defined our first generator, `range_gen`. All it does, is feed us the numbers 0 to n, one at a time. \n",
    "\n",
    "Every time we call range_5 in the for loop, the generator **yields** the next value. This tells us that it maintains some sort of state remembering where it is. But why do we care? Why not just return the entire list of numbers from 0 to n and iterate over that in the for loop?\n",
    "\n",
    "The reason is that generators are very memory efficient. Instead of creating and returning a potentially massive list of numbers (which can take up a lot of memory), the generator only has to store and give 1 number at a time."
   ]
  },
  {
   "cell_type": "code",
   "execution_count": 49,
   "metadata": {},
   "outputs": [],
   "source": [
    "import sys"
   ]
  },
  {
   "cell_type": "code",
   "execution_count": 50,
   "metadata": {},
   "outputs": [],
   "source": [
    "def range_list(n):\n",
    "    return list(range(n))"
   ]
  },
  {
   "cell_type": "markdown",
   "metadata": {},
   "source": [
    "We'll compare the amount of bytes returned from the `range_list` function vs. the `range_gen` generator."
   ]
  },
  {
   "cell_type": "code",
   "execution_count": 51,
   "metadata": {},
   "outputs": [
    {
     "name": "stdout",
     "output_type": "stream",
     "text": [
      "9,000,120 bytes\n",
      "128 bytes\n"
     ]
    }
   ],
   "source": [
    "print(f'{sys.getsizeof(range_list(1_000_000)):,} bytes')\n",
    "print(f'{sys.getsizeof(range_gen(1_000_000)):,} bytes')"
   ]
  },
  {
   "cell_type": "markdown",
   "metadata": {},
   "source": [
    "We can see that the function takes up wayyyyy more memory than the generator does.\n",
    "\n",
    "We don't just have to iterate over generators in a for loop. We can also call the `next` method on it to retrieve each value. But if we call `next` more times than there are values to yield than python will raise a StopIteration exception.\n",
    "\n",
    "When we iterate over a generator using a for-loop, in the background python is really just calling `next` until it hits a StopIteration. "
   ]
  },
  {
   "cell_type": "code",
   "execution_count": 52,
   "metadata": {},
   "outputs": [
    {
     "name": "stdout",
     "output_type": "stream",
     "text": [
      "0 1 2 3 4 "
     ]
    },
    {
     "ename": "StopIteration",
     "evalue": "",
     "output_type": "error",
     "traceback": [
      "\u001b[0;31m---------------------------------------------------------------------------\u001b[0m",
      "\u001b[0;31mStopIteration\u001b[0m                             Traceback (most recent call last)",
      "\u001b[0;32m<ipython-input-52-d406f95ea6f1>\u001b[0m in \u001b[0;36m<module>\u001b[0;34m\u001b[0m\n\u001b[1;32m      7\u001b[0m \u001b[0mprint\u001b[0m\u001b[0;34m(\u001b[0m\u001b[0mnext\u001b[0m\u001b[0;34m(\u001b[0m\u001b[0mrange_5\u001b[0m\u001b[0;34m)\u001b[0m\u001b[0;34m,\u001b[0m \u001b[0mend\u001b[0m\u001b[0;34m=\u001b[0m\u001b[0;34m' '\u001b[0m\u001b[0;34m)\u001b[0m\u001b[0;34m\u001b[0m\u001b[0;34m\u001b[0m\u001b[0m\n\u001b[1;32m      8\u001b[0m \u001b[0;31m# will raise a StopIteration exception\u001b[0m\u001b[0;34m\u001b[0m\u001b[0;34m\u001b[0m\u001b[0;34m\u001b[0m\u001b[0m\n\u001b[0;32m----> 9\u001b[0;31m \u001b[0mprint\u001b[0m\u001b[0;34m(\u001b[0m\u001b[0mnext\u001b[0m\u001b[0;34m(\u001b[0m\u001b[0mrange_5\u001b[0m\u001b[0;34m)\u001b[0m\u001b[0;34m)\u001b[0m\u001b[0;34m\u001b[0m\u001b[0;34m\u001b[0m\u001b[0m\n\u001b[0m",
      "\u001b[0;31mStopIteration\u001b[0m: "
     ]
    }
   ],
   "source": [
    "range_5 = range_gen(5)\n",
    "\n",
    "print(next(range_5), end=' ')\n",
    "print(next(range_5), end=' ')\n",
    "print(next(range_5), end=' ')\n",
    "print(next(range_5), end=' ')\n",
    "print(next(range_5), end=' ')\n",
    "# will raise a StopIteration exception\n",
    "print(next(range_5))"
   ]
  },
  {
   "cell_type": "markdown",
   "metadata": {},
   "source": [
    "Once we iterate through all items in a generator object we can't restart from the beginning to iterate over again because the generator has reached the end of it's sequence."
   ]
  },
  {
   "cell_type": "code",
   "execution_count": 58,
   "metadata": {},
   "outputs": [
    {
     "name": "stdout",
     "output_type": "stream",
     "text": [
      "======\n",
      "0 1 2 3 4 "
     ]
    }
   ],
   "source": [
    "# see we get no output because we already retrieved \n",
    "# all the elements available in range_5\n",
    "for i in range_5:\n",
    "    print(i)\n",
    "    \n",
    "print('======')\n",
    "# if we want to start again we have to reinitialize the object\n",
    "range_5 = range_gen(5)\n",
    "for i in range_5:\n",
    "    print(i, end=' ')"
   ]
  },
  {
   "cell_type": "markdown",
   "metadata": {},
   "source": [
    "Before we really move on we'll add some print statements to the generator to really see whats going on."
   ]
  },
  {
   "cell_type": "code",
   "execution_count": 8,
   "metadata": {},
   "outputs": [],
   "source": [
    "def range_gen(n=3):\n",
    "    print('Starting')\n",
    "    i = 0\n",
    "    while i < n:\n",
    "        print('Yielding ', end=' ')\n",
    "        yield i\n",
    "        print('Moving on to next value')\n",
    "        i += 1\n",
    "    print('Generator done')"
   ]
  },
  {
   "cell_type": "code",
   "execution_count": 9,
   "metadata": {},
   "outputs": [
    {
     "name": "stdout",
     "output_type": "stream",
     "text": [
      "Starting\n",
      "Yielding  0\n",
      "======\n",
      "Moving on to next value\n",
      "Yielding  1\n",
      "======\n",
      "Moving on to next value\n",
      "Yielding  2\n",
      "======\n",
      "Moving on to next value\n",
      "Generator done\n"
     ]
    }
   ],
   "source": [
    "for i in range_gen():\n",
    "    print(i)\n",
    "    print('======')"
   ]
  },
  {
   "cell_type": "markdown",
   "metadata": {},
   "source": [
    "So we can see only the first time the generator is called is the start code run. Then once we yield a value the generator pauses and gives control back to the main code (in this case the for loop with print(i)). Then the next time we call the generator the function resumes right where it was and works until it hits the next yield."
   ]
  },
  {
   "cell_type": "code",
   "execution_count": 10,
   "metadata": {},
   "outputs": [],
   "source": [
    "# We can also use generators to resemble infinite lists.\n",
    "def infinity():\n",
    "    i = 0\n",
    "    while(True):\n",
    "        yield i\n",
    "        i += 1"
   ]
  },
  {
   "cell_type": "code",
   "execution_count": 11,
   "metadata": {
    "scrolled": true
   },
   "outputs": [
    {
     "name": "stdout",
     "output_type": "stream",
     "text": [
      "0\n",
      "1\n",
      "2\n",
      "3\n",
      "4\n",
      "5\n",
      "6\n",
      "7\n",
      "8\n",
      "9\n",
      "10\n",
      "11\n",
      "12\n",
      "13\n",
      "14\n",
      "15\n",
      "16\n",
      "17\n",
      "18\n",
      "19\n",
      "20\n",
      "21\n",
      "22\n",
      "23\n",
      "24\n",
      "25\n",
      "26\n",
      "27\n",
      "28\n",
      "29\n",
      "30\n",
      "31\n",
      "32\n",
      "33\n",
      "34\n",
      "35\n",
      "36\n",
      "37\n",
      "38\n",
      "39\n",
      "40\n",
      "41\n",
      "42\n",
      "43\n",
      "44\n",
      "45\n",
      "46\n",
      "47\n",
      "48\n",
      "49\n",
      "50\n",
      "51\n"
     ]
    }
   ],
   "source": [
    "for i in infinity():\n",
    "    print(i)\n",
    "    \n",
    "    if i > 50:\n",
    "        break"
   ]
  },
  {
   "cell_type": "code",
   "execution_count": 12,
   "metadata": {},
   "outputs": [],
   "source": [
    "infty = infinity()"
   ]
  },
  {
   "cell_type": "code",
   "execution_count": 30,
   "metadata": {},
   "outputs": [
    {
     "data": {
      "text/plain": [
       "17"
      ]
     },
     "execution_count": 30,
     "metadata": {},
     "output_type": "execute_result"
    }
   ],
   "source": [
    "# run this cell as many times as you want \n",
    "next(infty)"
   ]
  },
  {
   "cell_type": "markdown",
   "metadata": {},
   "source": [
    "Once we have a generator if we want the full sequence at once we can just convert it into a list using `list(gen)`. (If you try this with `infty` it won't terminate.)"
   ]
  },
  {
   "cell_type": "code",
   "execution_count": 34,
   "metadata": {},
   "outputs": [],
   "source": [
    "def range_gen(n=3):\n",
    "    i = 0\n",
    "    while i < n:\n",
    "        yield i\n",
    "        i += 1"
   ]
  },
  {
   "cell_type": "code",
   "execution_count": 37,
   "metadata": {},
   "outputs": [
    {
     "name": "stdout",
     "output_type": "stream",
     "text": [
      "<class 'list'>\n"
     ]
    },
    {
     "data": {
      "text/plain": [
       "[0, 1, 2, 3, 4, 5, 6, 7, 8, 9]"
      ]
     },
     "execution_count": 37,
     "metadata": {},
     "output_type": "execute_result"
    }
   ],
   "source": [
    "x = list(range_gen(10))\n",
    "print(type(x))\n",
    "x"
   ]
  },
  {
   "cell_type": "markdown",
   "metadata": {},
   "source": [
    "# Generator expressions\n",
    "\n",
    "Just like in lists we have list comprehensions to create a list in one line, we also have generator expressions. \n",
    "\n",
    "Generator expressions look exactly like list comprehensions except\n",
    "1. They return a generator.\n",
    "1. We surround the expression with ( ) instead of \\[ \\]."
   ]
  },
  {
   "cell_type": "code",
   "execution_count": 44,
   "metadata": {},
   "outputs": [
    {
     "data": {
      "text/plain": [
       "<generator object <genexpr> at 0x10da5cdd0>"
      ]
     },
     "execution_count": 44,
     "metadata": {},
     "output_type": "execute_result"
    }
   ],
   "source": [
    "# we can define the same generator as above\n",
    "\n",
    "gen = (i for i in range(5))\n",
    "gen"
   ]
  },
  {
   "cell_type": "code",
   "execution_count": 45,
   "metadata": {},
   "outputs": [
    {
     "name": "stdout",
     "output_type": "stream",
     "text": [
      "0 1 2 3 4 "
     ]
    }
   ],
   "source": [
    "for i in gen:\n",
    "    print(i, end=' ')"
   ]
  },
  {
   "cell_type": "markdown",
   "metadata": {},
   "source": [
    "Just like in list comprehensions we can even filter for values we want."
   ]
  },
  {
   "cell_type": "code",
   "execution_count": 73,
   "metadata": {},
   "outputs": [
    {
     "name": "stdout",
     "output_type": "stream",
     "text": [
      "0 2 4 6 8 \n",
      "==========\n",
      "0 2 4 6 8 "
     ]
    }
   ],
   "source": [
    "gen_even = (i for i in range(10) if i % 2 == 0)\n",
    "\n",
    "# this \n",
    "while True:\n",
    "    try:\n",
    "        print(next(gen_even), end=' ')\n",
    "    except StopIteration:\n",
    "        break\n",
    "        \n",
    "print('\\n==========')\n",
    "gen_even = (i for i in range(10) if i % 2 == 0)\n",
    "\n",
    "# is equivalent to this\n",
    "for i in gen_even:\n",
    "    print(i, end=' ')"
   ]
  },
  {
   "cell_type": "code",
   "execution_count": null,
   "metadata": {},
   "outputs": [],
   "source": []
  }
 ],
 "metadata": {
  "kernelspec": {
   "display_name": "Python 3",
   "language": "python",
   "name": "python3"
  },
  "language_info": {
   "codemirror_mode": {
    "name": "ipython",
    "version": 3
   },
   "file_extension": ".py",
   "mimetype": "text/x-python",
   "name": "python",
   "nbconvert_exporter": "python",
   "pygments_lexer": "ipython3",
   "version": "3.7.6"
  }
 },
 "nbformat": 4,
 "nbformat_minor": 4
}
