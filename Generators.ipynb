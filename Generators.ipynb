{
 "cells": [
  {
   "cell_type": "markdown",
   "metadata": {},
   "source": [
    "# Generators\n",
    "***\n",
    "A generator in python is a function that returns a set of items one at a time. In other words, you can iterate over the functions and retrieve each object.\n",
    "\n",
    "Generators look exactly like functions but instead of returning elements, you `yield` elements."
   ]
  },
  {
   "cell_type": "code",
   "execution_count": 37,
   "metadata": {},
   "outputs": [],
   "source": [
    "def range_gen(n=3):\n",
    "    i = 0\n",
    "    while i < n:\n",
    "        yield i\n",
    "        i += 1"
   ]
  },
  {
   "cell_type": "code",
   "execution_count": 44,
   "metadata": {},
   "outputs": [
    {
     "name": "stdout",
     "output_type": "stream",
     "text": [
      "0 1 2 3 4 \n",
      "0 1 2 3 4 "
     ]
    }
   ],
   "source": [
    "range_5 = range_gen(5)\n",
    "for i in range_5:\n",
    "    print(i, end=' ')\n",
    "    \n",
    "print()\n",
    "# or just\n",
    "for i in range_gen(5):\n",
    "    print(i, end=' ')"
   ]
  },
  {
   "cell_type": "markdown",
   "metadata": {},
   "source": [
    "Above we defined our first generator, `range_gen`. All it does, is feed us the numbers 0 to n, one at a time. \n",
    "\n",
    "Every time we call range_5 in the for loop, the generator **yields** the next value. This tells us that it maintains some sort of state remembering where it is. But why do we care? Why not just return the entire list of numbers from 0 to n and iterate over that in the for loop?\n",
    "\n",
    "The reason is that generators are very memory efficient. Instead of creating and returning a potentially massive list of numbers (which can take up a lot of memory), the generator only has to store and give 1 number at a time."
   ]
  },
  {
   "cell_type": "code",
   "execution_count": 48,
   "metadata": {},
   "outputs": [],
   "source": [
    "import sys"
   ]
  },
  {
   "cell_type": "code",
   "execution_count": 51,
   "metadata": {},
   "outputs": [],
   "source": [
    "def range_list(n):\n",
    "    return list(range(n))"
   ]
  },
  {
   "cell_type": "markdown",
   "metadata": {},
   "source": [
    "We'll compare the amount of bytes returned from the `range_list` function vs. the `range_gen` generator."
   ]
  },
  {
   "cell_type": "code",
   "execution_count": 65,
   "metadata": {},
   "outputs": [
    {
     "name": "stdout",
     "output_type": "stream",
     "text": [
      "9,000,120 bytes\n",
      "128 bytes\n"
     ]
    }
   ],
   "source": [
    "print(f'{sys.getsizeof(range_list(1_000_000)):,} bytes')\n",
    "print(f'{sys.getsizeof(range_gen(1_000_000)):,} bytes')"
   ]
  },
  {
   "cell_type": "markdown",
   "metadata": {},
   "source": [
    "We can see that the function takes up wayyyyy more memory than the generator does."
   ]
  },
  {
   "cell_type": "code",
   "execution_count": null,
   "metadata": {},
   "outputs": [],
   "source": []
  }
 ],
 "metadata": {
  "kernelspec": {
   "display_name": "Python 3",
   "language": "python",
   "name": "python3"
  },
  "language_info": {
   "codemirror_mode": {
    "name": "ipython",
    "version": 3
   },
   "file_extension": ".py",
   "mimetype": "text/x-python",
   "name": "python",
   "nbconvert_exporter": "python",
   "pygments_lexer": "ipython3",
   "version": "3.7.6"
  }
 },
 "nbformat": 4,
 "nbformat_minor": 4
}
