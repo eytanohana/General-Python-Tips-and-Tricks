{
 "cells": [
  {
   "cell_type": "markdown",
   "metadata": {},
   "source": [
    "# Special methods a.k.a. Dunder methods\n",
    "\n",
    "Dunder methods (short for double underscore \\__ ) are part of the Python Data Model. They allow us to add special functionality to our own classes, like the ability to call `len` on an object, or add two objects using +, or so on.\n",
    "***\n",
    "We'll start by defining a `Vector` that represents the mathematical concept of an n-dimensional vector."
   ]
  },
  {
   "cell_type": "code",
   "execution_count": 39,
   "metadata": {},
   "outputs": [],
   "source": [
    "class Vector:\n",
    "    \n",
    "    def __init__(self, *vec):\n",
    "        self.vec = vec\n",
    "        self.dim = len(vec)\n",
    "        \n",
    "    def __repr__(self):\n",
    "        return 'Vector' + str(self.vec)\n",
    "    \n",
    "    def __str__(self):\n",
    "        string = ''\n",
    "        for num in self.vec:\n",
    "            string += f'({num})\\n'\n",
    "        return string\n",
    "    \n",
    "    def __add__(self, other):\n",
    "        if self.dim != other.dim:\n",
    "            raise Exception('Vectors must have the same number of dimensions')\n",
    "        \n",
    "        vector = (a + b for a, b in zip(self.vec, other.vec))\n",
    "        return Vector(*vector)\n",
    "    \n",
    "    def __sub__(self, other):\n",
    "        if self.dim != other.dim:\n",
    "            raise Exception('Vectors must have the same number of dimensions')\n",
    "        \n",
    "        vec = (a - b for a, b in zip(self.vec, other.vec))\n",
    "        return Vector(*vec)    \n",
    "    \n",
    "    def __mul__(self, other):\n",
    "        \"\"\"\n",
    "        self is a vector and other is a single value\n",
    "        \"\"\"\n",
    "        vec = (a * other for a in self.vec)\n",
    "        return Vector(*vec)"
   ]
  },
  {
   "cell_type": "code",
   "execution_count": 43,
   "metadata": {},
   "outputs": [
    {
     "data": {
      "text/plain": [
       "(Vector(1, 2, 3, 4), Vector(1, 2, 9, 6))"
      ]
     },
     "execution_count": 43,
     "metadata": {},
     "output_type": "execute_result"
    }
   ],
   "source": [
    "v1 = Vector(1, 2, 3, 4)\n",
    "v2 = Vector(1, 2, 9, 6)\n",
    "v1, v2"
   ]
  },
  {
   "cell_type": "code",
   "execution_count": 44,
   "metadata": {},
   "outputs": [
    {
     "name": "stdout",
     "output_type": "stream",
     "text": [
      "(1)\n",
      "(2)\n",
      "(3)\n",
      "(4)\n",
      "\n",
      "(1)\n",
      "(2)\n",
      "(9)\n",
      "(6)\n",
      "\n"
     ]
    }
   ],
   "source": [
    "print(v1)\n",
    "print(v2)"
   ]
  },
  {
   "cell_type": "code",
   "execution_count": 48,
   "metadata": {},
   "outputs": [
    {
     "name": "stdout",
     "output_type": "stream",
     "text": [
      "Vector(2, 4, 12, 10)\n",
      "Vector(0, 0, -6, -2)\n"
     ]
    }
   ],
   "source": [
    "v_sum = v1 + v2\n",
    "v_diff = v1 - v2\n",
    "\n",
    "print(repr(v_sum))\n",
    "print(repr(v_diff))"
   ]
  },
  {
   "cell_type": "code",
   "execution_count": null,
   "metadata": {},
   "outputs": [],
   "source": []
  }
 ],
 "metadata": {
  "kernelspec": {
   "display_name": "Python 3.8",
   "language": "python",
   "name": "python3_8"
  },
  "language_info": {
   "codemirror_mode": {
    "name": "ipython",
    "version": 3
   },
   "file_extension": ".py",
   "mimetype": "text/x-python",
   "name": "python",
   "nbconvert_exporter": "python",
   "pygments_lexer": "ipython3",
   "version": "3.8.2"
  }
 },
 "nbformat": 4,
 "nbformat_minor": 4
}
