{
 "cells": [
  {
   "cell_type": "markdown",
   "metadata": {},
   "source": [
    "# Special methods a.k.a. Dunder methods\n",
    "\n",
    "Dunder methods (short for double underscore \\__ ) are part of the Python Data Model. They allow us to add special functionality to our own classes, like the ability to call `len` on an object, or add two objects using +, or so on.\n",
    "***\n",
    "We'll define a `Vector` that represents the mathematical concept of an n-dimensional vector."
   ]
  },
  {
   "cell_type": "code",
   "execution_count": 1,
   "metadata": {},
   "outputs": [],
   "source": [
    "from math import sqrt\n",
    "\n",
    "class Vector:\n",
    "    \n",
    "    def __init__(self, *vec):\n",
    "        \"\"\"\n",
    "        Initializes the object.\n",
    "        \"\"\"\n",
    "        self.vec = list(vec)\n",
    "        self.dim = len(vec)\n",
    "        \n",
    "    def __repr__(self):\n",
    "        \"\"\"\n",
    "        Returns a representation of the object.\n",
    "        \"\"\"\n",
    "        return 'Vector' + str(self.vec)\n",
    "    \n",
    "    def __str__(self):\n",
    "        \"\"\"\n",
    "        Returns a user-friendly string representation of the object.\n",
    "        \"\"\"\n",
    "        return str(self.vec).replace(',', '')\n",
    "    \n",
    "    def __add__(self, other):\n",
    "        \"\"\"\n",
    "        Return a vector that's the sum of two vectors.\n",
    "        \"\"\"\n",
    "        if self.dim != other.dim:\n",
    "            raise Exception('Vectors must have the same number of dimensions')\n",
    "        \n",
    "        vector = (a + b for a, b in zip(self.vec, other.vec))\n",
    "        return Vector(*vector)\n",
    "    \n",
    "    def __sub__(self, other):\n",
    "        \"\"\"\n",
    "        Return a vector that's the difference of two vectors.\n",
    "        \"\"\"\n",
    "        if self.dim != other.dim:\n",
    "            raise Exception('Vectors must have the same number of dimensions')\n",
    "        \n",
    "        vec = (a - b for a, b in zip(self.vec, other.vec))\n",
    "        return Vector(*vec)    \n",
    "    \n",
    "    def __mul__(self, other):\n",
    "        \"\"\"\n",
    "        Returns a vector multiplied by a scalar.\n",
    "        \"\"\"\n",
    "        vec = (a * other for a in self.vec)\n",
    "        return Vector(*vec)\n",
    "    \n",
    "    def __rmul__(self, other):\n",
    "        \"\"\"\n",
    "        Returns a vector multiplied by a scalar\n",
    "        \"\"\"\n",
    "        vec = (a * other for a in self.vec)\n",
    "        return Vector(*vec)      \n",
    "    \n",
    "    def __abs__(self):\n",
    "        \"\"\"\n",
    "        Returns the geometric length of a vector.\n",
    "        \"\"\"\n",
    "        return sqrt(sum([a**2 for a in self.vec]))\n",
    "    \n",
    "    def __getitem__(self, key):\n",
    "        \"\"\"\n",
    "        Returns the element at the key index.\n",
    "        \"\"\"\n",
    "        return self.vec[key]\n",
    "    \n",
    "    def __setitem__(self, key, value):\n",
    "        \"\"\"\n",
    "        Sets the element at the key index with value.\n",
    "        \"\"\"\n",
    "        self.vec[key] = value"
   ]
  },
  {
   "cell_type": "code",
   "execution_count": 2,
   "metadata": {},
   "outputs": [
    {
     "data": {
      "text/plain": [
       "(Vector[1, 2, 3, 4], 'Vector[1, 2, 9, 6]')"
      ]
     },
     "execution_count": 2,
     "metadata": {},
     "output_type": "execute_result"
    }
   ],
   "source": [
    "# Defining __repr__ allows us to get nicer representations\n",
    "# of vectors instead of something like <Vector at 0x10548b3a0>\n",
    "v1 = Vector(1, 2, 3, 4)\n",
    "v2 = Vector(1, 2, 9, 6)\n",
    "v1, repr(v2)"
   ]
  },
  {
   "cell_type": "code",
   "execution_count": 3,
   "metadata": {},
   "outputs": [
    {
     "name": "stdout",
     "output_type": "stream",
     "text": [
      "[1 2 3 4]\n"
     ]
    },
    {
     "data": {
      "text/plain": [
       "'[1 2 9 6]'"
      ]
     },
     "execution_count": 3,
     "metadata": {},
     "output_type": "execute_result"
    }
   ],
   "source": [
    "# Defining __str__ allows us to print our object in a nicer way\n",
    "print(v1)\n",
    "str(v2)"
   ]
  },
  {
   "cell_type": "code",
   "execution_count": 4,
   "metadata": {},
   "outputs": [
    {
     "name": "stdout",
     "output_type": "stream",
     "text": [
      "[2 4 12 10]\n",
      "[0 0 -6 -2]\n"
     ]
    }
   ],
   "source": [
    "\n",
    "# __add__ /__sub__ allow us to add/subtract two vectors\n",
    "v_sum = v1 + v2\n",
    "v_diff = v1 - v2\n",
    "\n",
    "print(v_sum)\n",
    "print(v_diff)"
   ]
  },
  {
   "cell_type": "code",
   "execution_count": 5,
   "metadata": {},
   "outputs": [
    {
     "name": "stdout",
     "output_type": "stream",
     "text": [
      "[1 2 3 4]\n"
     ]
    },
    {
     "data": {
      "text/plain": [
       "(Vector[2, 4, 6, 8], Vector[2, 4, 6, 8])"
      ]
     },
     "execution_count": 5,
     "metadata": {},
     "output_type": "execute_result"
    }
   ],
   "source": [
    "# __mul__ lets us do Vector * n\n",
    "# __rmul__ lets us do n * Vector\n",
    "print(v1)\n",
    "v1 * 2, 2 * v1"
   ]
  },
  {
   "cell_type": "code",
   "execution_count": 6,
   "metadata": {},
   "outputs": [
    {
     "data": {
      "text/plain": [
       "5.477225575051661"
      ]
     },
     "execution_count": 6,
     "metadata": {},
     "output_type": "execute_result"
    }
   ],
   "source": [
    "# __abs__ allows us to call abs on our object\n",
    "# in this case abs returns the length of the vector\n",
    "# because __len__ doesn't allow returning floating point numbers\n",
    "abs(v1)"
   ]
  },
  {
   "cell_type": "code",
   "execution_count": 7,
   "metadata": {},
   "outputs": [
    {
     "name": "stdout",
     "output_type": "stream",
     "text": [
      "[1 2 3 4]\n",
      "1 4\n",
      "[1, 2]\n"
     ]
    }
   ],
   "source": [
    "# __getitem__ allows us to index a Vector using []\n",
    "print(v1)\n",
    "print(v1[0], v1[-1])\n",
    "# we can even use slicing\n",
    "print(v1[:2])"
   ]
  },
  {
   "cell_type": "code",
   "execution_count": 8,
   "metadata": {},
   "outputs": [
    {
     "name": "stdout",
     "output_type": "stream",
     "text": [
      "[1 2 3 4]\n",
      "[7 2 3 4]\n"
     ]
    }
   ],
   "source": [
    "# __setitem__ allow us to set elements in a vector\n",
    "print(v1)\n",
    "v1[0] = 7\n",
    "print(v1)"
   ]
  },
  {
   "cell_type": "markdown",
   "metadata": {},
   "source": [
    "There are many more dunder methods that are worth looking into [here](https://docs.python.org/3/reference/datamodel.html) that can add a lot of functionality to your classes."
   ]
  },
  {
   "cell_type": "code",
   "execution_count": null,
   "metadata": {},
   "outputs": [],
   "source": []
  }
 ],
 "metadata": {
  "kernelspec": {
   "display_name": "Python 3.8",
   "language": "python",
   "name": "python3_8"
  },
  "language_info": {
   "codemirror_mode": {
    "name": "ipython",
    "version": 3
   },
   "file_extension": ".py",
   "mimetype": "text/x-python",
   "name": "python",
   "nbconvert_exporter": "python",
   "pygments_lexer": "ipython3",
   "version": "3.8.2"
  }
 },
 "nbformat": 4,
 "nbformat_minor": 4
}
