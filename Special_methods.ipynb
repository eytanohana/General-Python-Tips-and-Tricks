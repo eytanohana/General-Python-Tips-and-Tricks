{
 "cells": [
  {
   "cell_type": "markdown",
   "metadata": {},
   "source": [
    "# Special methods a.k.a. Dunder methods\n",
    "\n",
    "Dunder methods (short for double underscore \\__ ) are part of the Python Data Model. They allow us to add special functionality to our own classes, like the ability to call `len` on an object, or add two objects using +, or so on.\n",
    "***\n",
    "We'll start by defining a `Vector` that represents the mathematical concept of an n-dimensional vector."
   ]
  },
  {
   "cell_type": "code",
   "execution_count": 19,
   "metadata": {},
   "outputs": [],
   "source": [
    "class Vector:\n",
    "    \n",
    "    def __init__(self, *vec):\n",
    "        self._vec = vec\n",
    "        self.dim = len(vec)\n",
    "        \n",
    "    def __repr__(self):\n",
    "        return 'Vector' + str(self._vec)\n",
    "    \n",
    "    def __str__(self):\n",
    "        string = ''\n",
    "        for num in self._vec:\n",
    "            string += f'({num})\\n'\n",
    "        return string\n",
    "    \n",
    "    def __add__(self, other):\n",
    "        if self.dim != other.dim:\n",
    "            raise Exception('Vectors must have the same number of dimensions')\n",
    "        \n",
    "        "
   ]
  },
  {
   "cell_type": "code",
   "execution_count": 22,
   "metadata": {},
   "outputs": [
    {
     "name": "stdout",
     "output_type": "stream",
     "text": [
      "(1)\n",
      "(2)\n",
      "(3)\n",
      "(4)\n",
      "\n"
     ]
    }
   ],
   "source": [
    "vector = Vector(1, 2, 3, 4)\n",
    "print(vector)"
   ]
  },
  {
   "cell_type": "code",
   "execution_count": null,
   "metadata": {},
   "outputs": [],
   "source": []
  }
 ],
 "metadata": {
  "kernelspec": {
   "display_name": "Python 3.8",
   "language": "python",
   "name": "python3_8"
  },
  "language_info": {
   "codemirror_mode": {
    "name": "ipython",
    "version": 3
   },
   "file_extension": ".py",
   "mimetype": "text/x-python",
   "name": "python",
   "nbconvert_exporter": "python",
   "pygments_lexer": "ipython3",
   "version": "3.8.2"
  }
 },
 "nbformat": 4,
 "nbformat_minor": 4
}
